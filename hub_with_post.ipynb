{
 "cells": [
  {
   "cell_type": "code",
   "execution_count": 1,
   "id": "ab2b9cf1",
   "metadata": {},
   "outputs": [],
   "source": [
    "from ipynb.fs.full.openscad import *"
   ]
  },
  {
   "cell_type": "code",
   "execution_count": 6,
   "id": "f215002a",
   "metadata": {},
   "outputs": [],
   "source": [
    "\n",
    "sec=circle(40,s=100)\n",
    "path=cr(pts1([[-5,0],[5,0,5],[3,15,10],[-3,15,5],[-15,0]]),20)\n",
    "p=q_rot([\"z50\"],prism(sec,path))\n",
    "\n",
    "# swp(prism);\n",
    "\n",
    "sec1=circle(7)\n",
    "path1=cr(pts1([[0,0],[-2,35,2],[-2,0]]),5)\n",
    "p1=trns([35,0,20],prism(sec1,path1))\n",
    "\n",
    "# swp(prism1);\n",
    "\n",
    "p3=ipf(p,p1,3,10,0);\n",
    "\n",
    "# swp_c(flip(prism3));"
   ]
  },
  {
   "cell_type": "code",
   "execution_count": 7,
   "id": "ef091adc",
   "metadata": {},
   "outputs": [
    {
     "data": {
      "text/plain": [
       "0.009925127029418945"
      ]
     },
     "execution_count": 7,
     "metadata": {},
     "output_type": "execute_result"
    }
   ],
   "source": [
    "import time\n",
    "t0=time.time()\n",
    "with open('/Users/sanjeevprabhakar/iCloud Drive (Archive)/Documents/Download/openscad/hub_with_post.scad','w+') as f:\n",
    "    f.write(f'''\n",
    "include<dependencies.scad> \n",
    "swp({p});\n",
    "swp({p1});\n",
    "swp_c({p3});\n",
    "\n",
    "\n",
    "\n",
    "''') \n",
    "t1=time.time()\n",
    "total=t1-t0\n",
    "total"
   ]
  }
 ],
 "metadata": {
  "kernelspec": {
   "display_name": "Python 3 (ipykernel)",
   "language": "python",
   "name": "python3"
  },
  "language_info": {
   "codemirror_mode": {
    "name": "ipython",
    "version": 3
   },
   "file_extension": ".py",
   "mimetype": "text/x-python",
   "name": "python",
   "nbconvert_exporter": "python",
   "pygments_lexer": "ipython3",
   "version": "3.8.10"
  }
 },
 "nbformat": 4,
 "nbformat_minor": 5
}
