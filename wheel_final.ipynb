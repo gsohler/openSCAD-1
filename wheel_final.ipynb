{
 "cells": [
  {
   "cell_type": "code",
   "execution_count": 2,
   "id": "5221de91",
   "metadata": {},
   "outputs": [],
   "source": [
    "from ipynb.fs.full.openscad import *"
   ]
  },
  {
   "cell_type": "code",
   "execution_count": 9,
   "id": "bf84e01a",
   "metadata": {},
   "outputs": [
    {
     "data": {
      "text/plain": [
       "6.967530012130737"
      ]
     },
     "execution_count": 9,
     "metadata": {},
     "output_type": "execute_result"
    }
   ],
   "source": [
    "import time\n",
    "t0=time.time()\n",
    "with open('/Users/sanjeevprabhakar/iCloud Drive (Archive)/Documents/Download/openscad/wheel_final.scad','w+') as f:\n",
    "    f.write(f'''\n",
    "include<dependencies.scad> \n",
    "\n",
    "render(){{\n",
    "for(i=[0:60:360-60])\n",
    "rotate([0,0,i])\n",
    "difference(){{\n",
    "intersection(){{\n",
    "surf_extrude({sec10},{path10},-5);\n",
    "swp({sol1});\n",
    "swp({sol7});\n",
    "}}\n",
    "swp({sol2});\n",
    "}}\n",
    "for(i=[0:60:360-60])\n",
    "rotate([0,0,i])\n",
    "intersection(){{\n",
    "swp({bead1});\n",
    "swp({sol7});\n",
    "}}\n",
    "for(i=[0:60:360-60])\n",
    "rotate([0,0,i])\n",
    "difference(){{\n",
    "swp_c({sol13});\n",
    "swp({cylinder(r=20,h=300,s=72)});\n",
    "}}\n",
    "for(i=[0:60:360-60])\n",
    "rotate([0,0,i])\n",
    "intersection(){{\n",
    "swp_c({sol17});\n",
    "swp({sol7});\n",
    "}}\n",
    "\n",
    "for(i=[0:30:360-30])\n",
    "rotate([0,0,i])\n",
    "intersection(){{\n",
    "swp({sol6});\n",
    "swp({sol7});\n",
    "}}\n",
    "for(i=[0:30:360-30])\n",
    "rotate([0,0,i]){{\n",
    "swp_c({sol8});\n",
    "swp_c({sol10});}}\n",
    "\n",
    "\n",
    "for(i=[0:60:360-60])\n",
    "rotate([0,0,i])\n",
    "difference(){{\n",
    "intersection(){{\n",
    "surf_extrude({sec},{path},-5);\n",
    "swp({sol4});\n",
    "swp({sol7});\n",
    "}}\n",
    "swp({sol5});\n",
    "swp({cyl1});\n",
    "}}\n",
    "\n",
    "for(i=[0:60:360-60])\n",
    "rotate([0,0,i])\n",
    "intersection(){{\n",
    "swp({bead2});\n",
    "swp({sol7});\n",
    "}}\n",
    "\n",
    "for(i=[0:60:360-60])\n",
    "rotate([0,0,i])\n",
    "intersection(){{\n",
    "swp_c({bead3});\n",
    "swp({sol7});\n",
    "}}\n",
    "\n",
    "for(i=[0:60:360-60])\n",
    "rotate([0,0,i])\n",
    "difference(){{\n",
    "swp_c({sol15});\n",
    "swp({cylinder(r=20,h=300,s=72)});\n",
    "}}\n",
    "for(i=[0:60:360-60])\n",
    "rotate([0,0,i])\n",
    "intersection(){{\n",
    "swp_c({sol19});\n",
    "swp({sol7});\n",
    "}}\n",
    "difference(){{\n",
    "swp({sol9});\n",
    "swp({cylinder(r=20,h=300,s=72)});\n",
    "}}\n",
    "swp_prism_h({sol23},{sol7});\n",
    "}}\n",
    "''') \n",
    "t1=time.time()\n",
    "total=t1-t0\n",
    "total"
   ]
  },
  {
   "cell_type": "code",
   "execution_count": 3,
   "id": "f5f5ece2",
   "metadata": {},
   "outputs": [],
   "source": [
    "path7=cr(pts1([[0,0],[0,5],[-13,20],[0,20],[-12,20],[0,78],[12,20],[0,64],[13,20],[0,5]]),5)\n",
    "sec7=circle(245,s=72)\n",
    "\n",
    "sec10=cr(pts1([[-100,0],[100,30,500],[100,-30]]),20)\n",
    "path10=trns([0,0,190],q_rot([\"y-5\",\"z-15\"],cytz(cr(pts1([[0,0],[130,30,1000],[260,-10,0]]),20))))\n",
    "\n",
    "sec1=cr([[300,0,7], [0,0,7] , [300*cos(-30*pi/180),300*sin(-30*pi/180),7]]+c2t3(arc(300,-30,0,[0,0],s=10)[1:-1]),10)\n",
    "sol1=l_extrude(sec1,300)\n",
    "surf1=surf_extrude(sec10,path10)\n",
    "sec2=cr([[300,0,1], [0,0,15] , [300*cos(-30*pi/180),300*sin(-30*pi/180),1]]+c2t3(arc(300,-30,0,[0,0],s=10))[1:-1],10)\n",
    "sol2=trns([50*cos(-15*pi/180),50*sin(-15*pi/180),0],l_extrude(sec2,300))\n",
    "sec3=cr([[300,0,1], [0,0,15] , [300*cos(-30*pi/180),300*sin(-30*pi/180),1]]+c2t3(arc(300,-30,0,[0,0],s=10))[1:-1],10)\n",
    "sol3=trns([50*cos(-15*pi/180),50*sin(-15*pi/180),0],l_extrude(m_points(sec3,10),300))\n",
    "ip1=ip_surf(surf1,sol3)\n",
    "sec4=cr(pts1([[3,0],[0,3,1.5],[-3,0,1.5],[0,-3]]),5)\n",
    "bead1=p_extrude(sec4,ip1)\n"
   ]
  },
  {
   "cell_type": "code",
   "execution_count": 4,
   "id": "413a87c3",
   "metadata": {},
   "outputs": [],
   "source": [
    "sec=cr(pts1([[-100,0],[100,30,500],[100,-30]]),20)\n",
    "path=trns([0,0,217],q_rot([\"y10\",\"z15\"],cytz(cr(pts1([[0,0],[130,30,1000],[260,-10,0]]),20))))\n",
    "\n",
    "surf=surf_extrude(sec,path)\n",
    "sec5=cr([[300*cos(30*pi/180),300*sin(30*pi/180),7],[0,0,7],[300,0,7]]+c2t3(arc(300,0,30,[0,0],s=10))[1:-1],10)\n",
    "sol4=l_extrude(sec5,300)\n",
    "sec6=cr([[300*cos(30*pi/180),300*sin(30*pi/180),1],[0,0,30],[300,0,1]]+c2t3(arc(300,0,30,[0,0],s=10))[1:-1],40)\n",
    "sol5=trns([50*cos(15*pi/180),50*sin(15*pi/180),0],l_extrude(m_points(sec6,10),300))\n",
    "ip2=ip_surf(surf,sol5)\n",
    "bead2=p_extrude(sec4,ip2)\n",
    "cyl1=cylinder(r=15,h=300,cp=[110*cos(15*pi/180),110*sin(15*pi/180)],s=50)\n",
    "ip3=ip_surf(surf,cyl1)\n",
    "bead3=p_extrudec(sec4,ip3)\n"
   ]
  },
  {
   "cell_type": "code",
   "execution_count": 5,
   "id": "f0372703",
   "metadata": {},
   "outputs": [],
   "source": [
    "sec8=cr(pts1([[0,0],[2.5,0,2.5],[0,45,2.5],[-5,0,2.5],[0,-45,2.5]]),5)\n",
    "sol6=trns([22,0,205],q_rot([\"x90\",\"z90\"],l_extrude(m_points(sec8,1),300)))\n",
    "\n",
    "sec9=circle(245,s=100)\n",
    "path9=cr(pts1([[0,0],[0,5,5],[-13,20,5],[0,20,5],[-12,20,5],[0,78,5],[12,20,5],[0,64,5],[13,20,5],[0,5]]),5)\n",
    "sol7=q_rot([\"z50\"],prism(sec9,path9))\n",
    "\n",
    "sol8=ipf(sol7,flip(sol6),3,10,1)"
   ]
  },
  {
   "cell_type": "code",
   "execution_count": 6,
   "id": "c5378c82",
   "metadata": {},
   "outputs": [],
   "source": [
    "sec11=circle(45)\n",
    "path11=cr(pts1([[0,200],[5,0,5],[0,40,5],[-25,15,5],[-24.5,0]]),15)\n",
    "sol9=q_rot([\"z30\"],prism(sec11,path11))\n",
    "sol10=ipf(sol9,sol6,4,10,0)"
   ]
  },
  {
   "cell_type": "code",
   "execution_count": 7,
   "id": "8e2281fe",
   "metadata": {},
   "outputs": [],
   "source": [
    "sec12=cr([[50,0,4],[0,0,5],[50*cos(-30*pi/180),50*sin(-30*pi/180),4]]+c2t3(arc(50,-30,0,[0,0],10))[1:-1],10)\n",
    "sol12=l_extrude(sec12,300)\n",
    "sol13=ipf(surf1,sol12,4,10,0)\n",
    "sol14=q_rot([\"z30\"],sol12)\n",
    "sol15=ipf(surf,sol14,4,10,0)\n",
    "sol16=l_extrude(m_points(offset(sec1,-2.5),10),300)\n",
    "sol17=ipf(surf1,sol16,4,10,1)\n",
    "sol18=q_rot([\"z30\"],sol16)\n",
    "sol19=ipf(surf,sol18,4,10,1)\n",
    "sol20=q_rot([\"z30\"],sol6)\n",
    "sol21=q_rot([\"z30\"],sol8)\n",
    "sol22=q_rot([\"z30\"],sol10)"
   ]
  },
  {
   "cell_type": "code",
   "execution_count": 8,
   "id": "d5c48af0",
   "metadata": {},
   "outputs": [],
   "source": [
    "sec13=circle(250,s=100)\n",
    "sol23=q_rot([\"z50\"],prism(sec13,path9))\n"
   ]
  }
 ],
 "metadata": {
  "kernelspec": {
   "display_name": "Python 3 (ipykernel)",
   "language": "python",
   "name": "python3"
  },
  "language_info": {
   "codemirror_mode": {
    "name": "ipython",
    "version": 3
   },
   "file_extension": ".py",
   "mimetype": "text/x-python",
   "name": "python",
   "nbconvert_exporter": "python",
   "pygments_lexer": "ipython3",
   "version": "3.8.10"
  }
 },
 "nbformat": 4,
 "nbformat_minor": 5
}
