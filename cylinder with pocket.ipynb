{
 "cells": [
  {
   "cell_type": "code",
   "execution_count": null,
   "id": "cc553b3a",
   "metadata": {},
   "outputs": [],
   "source": [
    "t=1 #thickness\n",
    "n=100 # number of segments in the circle\n",
    "s=[10,14] #size of the pocket\n",
    "cir=circle(20,s=n)\n",
    "path=cr(pts1([[t/2,0,t/2],[0,80,t/2],[-t,0,t/2],[0,-80,t/2]]),10)\n",
    "sol1=prism(cir,path)\n",
    "sol1=sol1+[sol1[0]]\n",
    "\n",
    "sec1=cr(pts1([[-s[1]/2,-s[0]/2,t],[s[1],0,t],[0,s[0],t],[-s[1],0,t]]),10)\n",
    "sol2=trns([0,0,40],q_rot([\"y90\"],l_extrude(m_points(sec1,1.1),40)))\n",
    "\n",
    "cyl1=q_rot([\"z90\"],cylinder(r=20+t/2,h=80,s=n))\n",
    "cyl2=q_rot([\"z90\"],cylinder(r=20-t/2,h=80,s=n))\n",
    "\n",
    "\n",
    "sol3=cpo(ipf(cyl1,flip(sol2),t,10,1))[1:]\n",
    "sol3=[trns([-1,0,0],sol3[0])]+sol3+[trns([1,0,0],sol3[len(sol3)-1])]\n",
    "\n",
    "sol4=cpo(ipf(cyl2,sol2,t,10,0))[1:]\n",
    "sol4=[trns([1,0,0],sol4[0])]+sol4+[trns([-1,0,0],sol4[len(sol4)-1])]\n",
    "\n",
    "with open('/Users/sanjeevprabhakar/iCloud Drive (Archive)/Documents/Download/openscad/trial.scad','w+') as f:\n",
    "    f.write(f'''\n",
    "include<dependencies.scad> \n",
    "render(){{\n",
    "difference(){{\n",
    "{swp_c(sol1)}\n",
    "{swp(sol2)}\n",
    "{swp(sol4)}\n",
    "{swp(sol3)}\n",
    "}}\n",
    "}}\n",
    "\n",
    "''')"
   ]
  }
 ],
 "metadata": {
  "kernelspec": {
   "display_name": "Python 3 (ipykernel)",
   "language": "python",
   "name": "python3"
  },
  "language_info": {
   "codemirror_mode": {
    "name": "ipython",
    "version": 3
   },
   "file_extension": ".py",
   "mimetype": "text/x-python",
   "name": "python",
   "nbconvert_exporter": "python",
   "pygments_lexer": "ipython3",
   "version": "3.8.10"
  }
 },
 "nbformat": 4,
 "nbformat_minor": 5
}
