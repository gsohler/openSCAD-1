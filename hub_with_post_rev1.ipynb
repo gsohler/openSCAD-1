{
 "cells": [
  {
   "cell_type": "code",
   "execution_count": null,
   "id": "f63aeeca",
   "metadata": {},
   "outputs": [],
   "source": [
    "t0=time.time()\n",
    "sec=circle(40,s=50)\n",
    "path=cr(pts1([[-5,0],[5,0,5],[3,15,10],[-3,15,5],[-15,0]]),10)\n",
    "p=q_rot([\"z50\"],prism(sec,path))\n",
    "\n",
    "sec1=circle(7,s=300)\n",
    "path1=cr(pts1([[-5,0],[5,0,2],[-2,35,2],[-2,0]]),10)\n",
    "p1=trns([40,0,20],prism(sec1,path1))\n",
    "\n",
    "p3=fillet_sol2sol(p,p1,2,10,0);\n",
    "\n",
    "with open('/Users/sanjeevprabhakar/iCloud Drive (Archive)/Documents/Download/openscad/hub_with_post_rev1.scad','w+') as f:\n",
    "    f.write(f'''\n",
    "\n",
    "{swp(p)};\n",
    "{swp(p1)};\n",
    "{swp_c(p3)};\n",
    "\n",
    "\n",
    "\n",
    "''') \n",
    "t1=time.time()\n",
    "total=t1-t0\n",
    "total"
   ]
  }
 ],
 "metadata": {
  "kernelspec": {
   "display_name": "Python 3 (ipykernel)",
   "language": "python",
   "name": "python3"
  },
  "language_info": {
   "codemirror_mode": {
    "name": "ipython",
    "version": 3
   },
   "file_extension": ".py",
   "mimetype": "text/x-python",
   "name": "python",
   "nbconvert_exporter": "python",
   "pygments_lexer": "ipython3",
   "version": "3.8.10"
  }
 },
 "nbformat": 4,
 "nbformat_minor": 5
}
