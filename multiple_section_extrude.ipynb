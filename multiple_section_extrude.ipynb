{
 "cells": [
  {
   "cell_type": "code",
   "execution_count": null,
   "id": "d29fff9f",
   "metadata": {},
   "outputs": [],
   "source": [
    "sec1=circle(10)\n",
    "sec2=square(5,True)\n",
    "sec3=cr(pts1([[-3.5,-2.5,3],[7,0,3],[0,5,3],[-7,0,3]]))\n",
    "sections=[sec1,sec2,sec3,sec1,sec3]\n",
    "path=array([[0,0,0],[20,2,5],[-7,25,3],[5,10,30],[-30,15,3]]).cumsum(0)\n",
    "r=[0,5,7,12,0]\n",
    "\n",
    "with open('/Users/sanjeevprabhakar/iCloud Drive (Archive)/Documents/Download/openscad/trial.scad','w+')as f:\n",
    "    f.write(f'''\n",
    "include<dependencies.scad>\n",
    "color(\"blue\")for(p={multiple_sec_extrude(path,r,sections,0,20)})p_line3dc(p,.1);\n",
    "{swp(multiple_sec_extrude(path,r,sections,0,20))}\n",
    "    ''')"
   ]
  },
  {
   "cell_type": "code",
   "execution_count": null,
   "id": "22b9b4b4",
   "metadata": {},
   "outputs": [],
   "source": [
    "#example2\n",
    "path=array([[0,0,0],[30,0,0],[20,0,10]]).cumsum(0)\n",
    "sec=cr_3d([[-20,0,0,0],[20,0,-.1,3000],[20,0,.1,0],[0,1,0,0],[-20,0,-.1,3000],[-20,0,.1,0]],10)\n",
    "sec1=cr_3d([[-3.5,0,0,0],[3.5,0,-5,3],[3.5,0,5,0],[0,1,0,0],[-3.5,0,-5,3],[-3.5,0,5,0]],10)\n",
    "sections=[sec,sec,sec1]\n",
    "radius=[0,5,0]\n",
    "sol=multiple_sec_extrude(path,radius,sections,1,10)\n",
    "with open('/Users/sanjeevprabhakar/iCloud Drive (Archive)/Documents/Download/openscad/trial.scad','w+')as f:\n",
    "    f.write(f'''\n",
    "include<dependencies.scad>\n",
    "color(\"blue\")for(p={sol})p_line3dc(p,.1);\n",
    "color(\"blue\")for(p={cpo(sol)})p_line3d(p,.1);\n",
    "\n",
    "{swp(sol)}\n",
    "\n",
    "    ''')"
   ]
  },
  {
   "cell_type": "code",
   "execution_count": null,
   "id": "6cd630c9",
   "metadata": {},
   "outputs": [],
   "source": [
    "# example3\n",
    "path=array([[0,0,0],[30,0,0],[20,3,10],[10,5,0],[20,10,-10],[30,10,0]]).cumsum(0)\n",
    "sec=cr_3d([[-20,0,0,0],[20,0,-.1,3000],[20,0,.1,0],[0,1,0,0],[-20,0,-.1,3000],[-20,0,.1,0]],10)\n",
    "sec1=cr_3d([[-3.5,0,0,0],[3.5,0,-.01,1000],[3.5,0,.01,0],[0,1,0,0],[-3.5,0,-.01,1000],[-3.5,0,.01,0]],10)\n",
    "sections=[sec,sec,sec1,sec1,sec,sec]\n",
    "radius=[0,15,5,5,15,0]\n",
    "sol=multiple_sec_extrude(path,radius,sections,1,10)\n",
    "with open('/Users/sanjeevprabhakar/iCloud Drive (Archive)/Documents/Download/openscad/trial.scad','w+')as f:\n",
    "    f.write(f'''\n",
    "include<dependencies.scad>\n",
    "color(\"blue\")for(p={sol})p_line3dc(p,.1);\n",
    "color(\"blue\")for(p={cpo(sol)})p_line3d(p,.1);\n",
    "\n",
    "{swp(sol)}\n",
    "\n",
    "    ''')"
   ]
  }
 ],
 "metadata": {
  "kernelspec": {
   "display_name": "Python 3 (ipykernel)",
   "language": "python",
   "name": "python3"
  },
  "language_info": {
   "codemirror_mode": {
    "name": "ipython",
    "version": 3
   },
   "file_extension": ".py",
   "mimetype": "text/x-python",
   "name": "python",
   "nbconvert_exporter": "python",
   "pygments_lexer": "ipython3",
   "version": "3.8.10"
  }
 },
 "nbformat": 4,
 "nbformat_minor": 5
}
