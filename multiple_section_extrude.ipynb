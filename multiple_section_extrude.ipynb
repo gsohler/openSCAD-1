{
 "cells": [
  {
   "cell_type": "code",
   "execution_count": null,
   "id": "d29fff9f",
   "metadata": {},
   "outputs": [],
   "source": [
    "sec1=circle(10)\n",
    "sec2=square(5,True)\n",
    "sec3=cr(pts1([[-3.5,-2.5,3],[7,0,3],[0,5,3],[-7,0,3]]))\n",
    "sections=[sec1,sec2,sec3,sec1,sec3]\n",
    "path=array([[0,0,0],[20,2,5],[-7,25,3],[5,10,30],[-30,15,3]]).cumsum(0)\n",
    "r=[0,5,7,12,0]\n",
    "\n",
    "with open('/Users/sanjeevprabhakar/iCloud Drive (Archive)/Documents/Download/openscad/trial.scad','w+')as f:\n",
    "    f.write(f'''\n",
    "include<dependencies.scad>\n",
    "color(\"blue\")for(p={multiple_sec_extrude(path,r,sections,20)})p_line3dc(p,.1);\n",
    "{swp(multiple_sec_extrude(path,r,sections,20))}\n",
    "    ''')"
   ]
  }
 ],
 "metadata": {
  "kernelspec": {
   "display_name": "Python 3 (ipykernel)",
   "language": "python",
   "name": "python3"
  },
  "language_info": {
   "codemirror_mode": {
    "name": "ipython",
    "version": 3
   },
   "file_extension": ".py",
   "mimetype": "text/x-python",
   "name": "python",
   "nbconvert_exporter": "python",
   "pygments_lexer": "ipython3",
   "version": "3.8.10"
  }
 },
 "nbformat": 4,
 "nbformat_minor": 5
}
