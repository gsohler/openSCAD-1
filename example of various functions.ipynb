{
 "cells": [
  {
   "cell_type": "code",
   "execution_count": 29,
   "id": "cd778a4f",
   "metadata": {},
   "outputs": [],
   "source": [
    "from openscad import *"
   ]
  },
  {
   "cell_type": "code",
   "execution_count": 46,
   "id": "2c28986f",
   "metadata": {},
   "outputs": [
    {
     "data": {
      "text/plain": [
       "1.0530281066894531"
      ]
     },
     "execution_count": 46,
     "metadata": {},
     "output_type": "execute_result"
    }
   ],
   "source": [
    "# example of surf_extrudef\n",
    "t0=time.time()\n",
    "\n",
    "sec2=cr(pts1([[-25,0],[10,5,5],[10,-3,10],[10,5,5],[10,-8,7],[10,1]]),10)  \n",
    "path2=cytz(cr(pts1([[-35,5,0],[10,8,20],[20,-5,10],[20,8,20],[10,-9,20],[10,1,0]]),10))\n",
    "surf2=surf_extrude(sec2,path2)\n",
    "\n",
    "with open('/Users/sanjeevprabhakar/iCloud Drive (Archive)/Documents/Download/openscad/trial.scad','w+') as f:\n",
    "    f.write(f'''\n",
    "include<dependencies2.scad> \n",
    "for(p={surf2})points(p,.2);\n",
    "\n",
    "''') \n",
    "t1=time.time()\n",
    "total=t1-t0\n",
    "total"
   ]
  },
  {
   "cell_type": "code",
   "execution_count": 47,
   "id": "365c0463",
   "metadata": {},
   "outputs": [
    {
     "data": {
      "text/plain": [
       "1.0721588134765625"
      ]
     },
     "execution_count": 47,
     "metadata": {},
     "output_type": "execute_result"
    }
   ],
   "source": [
    "# example of surf_extrudef\n",
    "t0=time.time()\n",
    "\n",
    "sec2=cr(pts1([[-25,0],[10,5,5],[10,-3,10],[10,5,5],[10,-8,7],[10,1]]),10)  \n",
    "path2=cytz(cr(pts1([[-35,5,0],[10,8,20],[20,-5,10],[20,8,20],[10,-9,20],[10,1,0]]),10))\n",
    "surf2=surf_extrude(sec2,path2)\n",
    "surf3=surf_extrudef(surf2,t=-1)\n",
    "\n",
    "with open('/Users/sanjeevprabhakar/iCloud Drive (Archive)/Documents/Download/openscad/trial.scad','w+') as f:\n",
    "    f.write(f'''\n",
    "include<dependencies2.scad> \n",
    "{swp(surf3)}\n",
    "\n",
    "''') \n",
    "t1=time.time()\n",
    "total=t1-t0\n",
    "total"
   ]
  },
  {
   "cell_type": "code",
   "execution_count": 50,
   "id": "d8c8a8c7",
   "metadata": {},
   "outputs": [],
   "source": [
    "# example of function fillet_2cir\n",
    "\n",
    "fillet=fillet_2cir(r1=5,r2=3,c1=[0,0],c2=[7,0],r=1)\n",
    "with open('/Users/sanjeevprabhakar/iCloud Drive (Archive)/Documents/Download/openscad/trial.scad','w+') as f:\n",
    "    f.write(f'''\n",
    "include<dependencies2.scad> \n",
    "%p_line({circle(5)},.2);\n",
    "    %p_line({circle(3,[7,0])},.2);\n",
    "    p_line({fillet},.2);\n",
    "\n",
    "''') \n",
    "\n"
   ]
  },
  {
   "cell_type": "code",
   "execution_count": 51,
   "id": "9156f8f5",
   "metadata": {},
   "outputs": [],
   "source": [
    "# example of function filleto_2cir and arc_long_2p\n",
    "\n",
    "fillet=filleto_2cir(r1=10,r2=10,c1=[0,0],c2=[20,0],r=10)\n",
    "p0,p1,p2,p3=fillet[1][len(fillet[1])-1], fillet[0][0],fillet[0][len(fillet[0])-1],fillet[1][0]\n",
    "cir1=arc_long_2p(p0,p1,10,-1,40)\n",
    "cir2=arc_long_2p(p2,p3,10,-1,40)\n",
    "with open('/Users/sanjeevprabhakar/iCloud Drive (Archive)/Documents/Download/openscad/trial.scad','w+') as f:\n",
    "    f.write(f'''\n",
    "include<dependencies2.scad> \n",
    "    //%p_line({circle(10)},.2);\n",
    "    //%p_line({circle(10,[20,0])},.2);\n",
    "    color(\"blue\")p_lineo({fillet[0]},.2);\n",
    "    color(\"yellow\")p_lineo({fillet[1]},.2);\n",
    "    color(\"magenta\")p_lineo({cir1},.2);\n",
    "    color(\"cyan\")p_lineo({cir2},.2);\n",
    "    \n",
    "    \n",
    "''') "
   ]
  },
  {
   "cell_type": "code",
   "execution_count": 52,
   "id": "a5bc8192",
   "metadata": {},
   "outputs": [],
   "source": [
    "# example of function rm(theta)\n",
    "\n",
    "line=[[0,0],[5,3]]\n",
    "line1=array(line)@rm(30)\n",
    "line1=line1.tolist()\n",
    "\n",
    "with open('/Users/sanjeevprabhakar/iCloud Drive (Archive)/Documents/Download/openscad/trial.scad','w+') as f:\n",
    "    f.write(f'''\n",
    "include<dependencies2.scad> \n",
    "color(\"yellow\")p_lineo({line},.1); // original line\n",
    "color(\"blue\")p_lineo({line1},.1); // line rotated by 30 degrees\n",
    "\n",
    "  \n",
    "''') \n"
   ]
  },
  {
   "cell_type": "code",
   "execution_count": 53,
   "id": "2ef5aa13",
   "metadata": {},
   "outputs": [],
   "source": [
    "# example of function cr(pl,s)\n",
    "\n",
    "sec=cr(pl=[[0,0,.5],[10,0,2],[7,15,1]],s=5)\n",
    "\n",
    "with open('/Users/sanjeevprabhakar/iCloud Drive (Archive)/Documents/Download/openscad/trial.scad','w+') as f:\n",
    "    f.write(f'''\n",
    "include<dependencies2.scad> \n",
    "color(\"blue\")p_line({sec},.1); \n",
    "    \n",
    "    \n",
    "''') "
   ]
  },
  {
   "cell_type": "code",
   "execution_count": 54,
   "id": "be5b9175",
   "metadata": {},
   "outputs": [],
   "source": [
    "# example of function trns(p,sec)\n",
    "\n",
    "sec=cr([[0,0,.5],[10,0,2],[7,15,1]],5)\n",
    "sec1=trns(p=[2,5,3],sec=sec)\n",
    "\n",
    "with open('/Users/sanjeevprabhakar/iCloud Drive (Archive)/Documents/Download/openscad/trial.scad','w+') as f:\n",
    "    f.write(f'''\n",
    "include<dependencies2.scad> \n",
    "color(\"blue\")p_line({sec},.1); \n",
    "color(\"magenta\")p_line3dc({sec1},.1);\n",
    "    \n",
    "    \n",
    "''') \n"
   ]
  },
  {
   "cell_type": "code",
   "execution_count": 55,
   "id": "0181f9d2",
   "metadata": {},
   "outputs": [],
   "source": [
    "# example of function scl2d(sec,sl)\n",
    "\n",
    "sec=cr([[0,0,.5],[10,0,2],[7,15,1]],5)\n",
    "sec1=scl2d(sec,.7)\n",
    "with open('/Users/sanjeevprabhakar/iCloud Drive (Archive)/Documents/Download/openscad/trial.scad','w+') as f:\n",
    "    f.write(f'''\n",
    "include<dependencies2.scad> \n",
    "color(\"blue\")p_line({sec},.1); \n",
    "color(\"magenta\")p_line({sec1},.1);\n",
    "    \n",
    "    \n",
    "''') "
   ]
  },
  {
   "cell_type": "code",
   "execution_count": 56,
   "id": "e98cc754",
   "metadata": {},
   "outputs": [],
   "source": [
    "# example of function scl2d_c(sec,sl)\n",
    "\n",
    "sec=cr([[0,0,.5],[10,0,2],[7,15,1]],5)\n",
    "sec1=scl2d_c(sec,.7)\n",
    "   \n",
    "with open('/Users/sanjeevprabhakar/iCloud Drive (Archive)/Documents/Download/openscad/trial.scad','w+') as f:\n",
    "    f.write(f'''\n",
    "include<dependencies2.scad> \n",
    "color(\"blue\")p_line({sec},.1); \n",
    "color(\"magenta\")p_line({sec1},.1);\n",
    "    \n",
    "    \n",
    "''') "
   ]
  },
  {
   "cell_type": "code",
   "execution_count": 57,
   "id": "bc204e5b",
   "metadata": {},
   "outputs": [],
   "source": [
    "# example of function scl3d(p,s)\n",
    "\n",
    "sec=circle(10);\n",
    "path=cr(pts1([[2,0],[-2,0,2],[0,10,3],[-3,0]]),5)\n",
    "sol=prism(sec,path)\n",
    "sol1=scl3d(sol,.7)\n",
    "   \n",
    "with open('/Users/sanjeevprabhakar/iCloud Drive (Archive)/Documents/Download/openscad/trial.scad','w+') as f:\n",
    "    f.write(f'''\n",
    "include<dependencies2.scad> \n",
    "%{swp(sol)}\n",
    "{swp(sol1)}\n",
    "    \n",
    "    \n",
    "''') "
   ]
  },
  {
   "cell_type": "code",
   "execution_count": 58,
   "id": "361c00ca",
   "metadata": {},
   "outputs": [],
   "source": [
    "# example of function ip(prism,prism1)\n",
    "\n",
    "sec=circle(10)\n",
    "path=cr(pts1([[2,0],[-2,0,2],[0,10,3],[-9.9,0]]),5)\n",
    "p=prism(sec,path)\n",
    "p1=cylinder(r=3,h=15,s=30)\n",
    "ip1=ip(p,p1)\n",
    "   \n",
    "with open('/Users/sanjeevprabhakar/iCloud Drive (Archive)/Documents/Download/openscad/trial.scad','w+') as f:\n",
    "    f.write(f'''\n",
    "include<dependencies2.scad> \n",
    "%{swp(p)}\n",
    "{swp(p1)}\n",
    "color(\"blue\")points({ip1},.2);\n",
    "    \n",
    "    \n",
    "''') \n"
   ]
  },
  {
   "cell_type": "code",
   "execution_count": 59,
   "id": "4a9d3f67",
   "metadata": {},
   "outputs": [],
   "source": [
    "# example of function tctp(r1,r2,cp1,cp2)\n",
    "cir1=circle(10)\n",
    "cir2=circle(5,[15,6])\n",
    "sec=tctp(r1=10,r2=5,cp1=[0,0],cp2=[15,6]);\n",
    "\n",
    "   \n",
    "with open('/Users/sanjeevprabhakar/iCloud Drive (Archive)/Documents/Download/openscad/trial.scad','w+') as f:\n",
    "    f.write(f'''\n",
    "include<dependencies2.scad> \n",
    "p_line({cir1},.1);\n",
    "p_line({cir2},.1);\n",
    "color(\"blue\")p_line({sec},.1);\n",
    "    \n",
    "    \n",
    "''') \n"
   ]
  },
  {
   "cell_type": "code",
   "execution_count": 60,
   "id": "0fb4a19d",
   "metadata": {},
   "outputs": [],
   "source": [
    "# example of function tctpf(r1,r2,cp1,cp2)\n",
    "cir1=circle(10)\n",
    "cir2=circle(5,[15,6])\n",
    "sec=tctpf(r1=10,r2=5,cp1=[0,0],cp2=[15,6]);\n",
    "\n",
    "   \n",
    "with open('/Users/sanjeevprabhakar/iCloud Drive (Archive)/Documents/Download/openscad/trial.scad','w+') as f:\n",
    "    f.write(f'''\n",
    "include<dependencies2.scad> \n",
    "p_line({cir1},.1);\n",
    "p_line({cir2},.1);\n",
    "color(\"blue\")p_line({sec},.1);\n",
    "    \n",
    "    \n",
    "''') \n"
   ]
  },
  {
   "cell_type": "code",
   "execution_count": 61,
   "id": "1f39aaeb",
   "metadata": {},
   "outputs": [
    {
     "data": {
      "text/plain": [
       "4.110077857971191"
      ]
     },
     "execution_count": 61,
     "metadata": {},
     "output_type": "execute_result"
    }
   ],
   "source": [
    "# example of function fillet_surf2sol(surf1,sol1,r,s,o)\n",
    "\n",
    "t0=time.time()\n",
    "\n",
    "sec1=arc(20,0,359,s=150)\n",
    "path1=[[0,0],[-5,25]]\n",
    "\n",
    "surf1=prism(sec1,path1)\n",
    "\n",
    "sec2=cr(pts1([[-25,0],[10,5,5],[10,-3,10],[10,5,5],[10,-8,7],[10,1]]),10)  \n",
    "path2=cytz(cr(pts1([[-35,5,0],[10,8,20],[20,-5,10],[20,8,20],[10,-9,20],[10,1,0]]),10))\n",
    "surf2=surf_extrude(sec2,path2)\n",
    "\n",
    "p=fillet_surf2sol(surf2,surf1,2,10,0)\n",
    "p1=fillet_surf2sol(surf2,surf1,2,10,1)\n",
    "p2=fillet_surf2sol(flip(surf2),surf1,2,10,1)\n",
    "p3=fillet_surf2sol(flip(surf2),surf1,2,10,0)\n",
    "\n",
    "\n",
    "\n",
    "with open('/Users/sanjeevprabhakar/iCloud Drive (Archive)/Documents/Download/openscad/trial.scad','w+') as f:\n",
    "    f.write(f'''\n",
    "include<dependencies2.scad> \n",
    "// when option is set to '0'\n",
    "%{swp(surf1)}\n",
    "%{swp(surf_extrudef(surf2,-.05))}\n",
    "{swp_c(p)}\n",
    "color(\"blue\")translate([0,0,30])rotate([90,0,0])linear_extrude(.3)text(\"when option is set to '0' fillet is drawn outside\",1.5);\n",
    "\n",
    "// when option is set to '1'\n",
    "translate([0,70,0]){{\n",
    "%{swp(surf1)}\n",
    "%{swp(surf_extrudef(surf2,-.05))}\n",
    "{swp_c(p1)}\n",
    "}}\n",
    "color(\"blue\")translate([0,70,30])rotate([90,0,0])linear_extrude(.3)text(\"when option is set to '1' fillet is drawn inside\",1.5);\n",
    "\n",
    "// when the surface first is flipped and option is set to '1'\n",
    "translate([100,70,0]){{\n",
    "%{swp(surf1)}\n",
    "%{swp(surf_extrudef(surf2,-.05))}\n",
    "{swp_c(p2)}\n",
    "}}\n",
    "color(\"blue\")translate([100,70,30])rotate([90,0,0])linear_extrude(.3)text(\"when surface is fliiped and option is set to '1' fillet is drawn on reverse direction outside\",1.5);\n",
    "\n",
    "\n",
    "// when the surface first is flipped and option is set to '0'\n",
    "translate([100,0,0]){{\n",
    "%{swp(surf1)}\n",
    "%{swp(surf_extrudef(surf2,-.05))}\n",
    "{swp_c(p3)}\n",
    "}}\n",
    "color(\"blue\")translate([100,0,30])rotate([90,0,0])linear_extrude(.3)text(\"when surface is fliiped and option is set to '0' fillet is drawn on reverse direction inside\",1.5);\n",
    "\n",
    "''') \n",
    "t1=time.time()\n",
    "total=t1-t0\n",
    "total"
   ]
  },
  {
   "cell_type": "code",
   "execution_count": 62,
   "id": "f53c7592",
   "metadata": {},
   "outputs": [
    {
     "data": {
      "text/plain": [
       "0.45346903800964355"
      ]
     },
     "execution_count": 62,
     "metadata": {},
     "output_type": "execute_result"
    }
   ],
   "source": [
    "# example of function fillet_sol2sol(surf1,sol1,r,s,o)\n",
    "\n",
    "t0=time.time()\n",
    "\n",
    "sec=circle(10)\n",
    "path=cr(pts1([[2,0],[-2,0,2],[0,10,3],[-9.9,0]]),5)\n",
    "p=prism(sec,path)\n",
    "p1=cylinder(r=5,h=15,s=30)\n",
    "fillet1=fillet_sol2sol(p,p1,2,10,0)\n",
    "fillet2=fillet_sol2sol(p,p1,2,10,1)\n",
    "fillet3=fillet_sol2sol(flip(p),p1,2,10,1)\n",
    "fillet4=fillet_sol2sol(flip(p),p1,2,10,0)\n",
    "\n",
    "\n",
    "\n",
    "with open('/Users/sanjeevprabhakar/iCloud Drive (Archive)/Documents/Download/openscad/trial.scad','w+') as f:\n",
    "    f.write(f'''\n",
    "include<dependencies2.scad> \n",
    "// when option is set to '0'\n",
    "%{swp(p)}\n",
    "%{swp(p1)}\n",
    "{swp_c(fillet1)}\n",
    "color(\"blue\")translate([0,0,20])rotate([90,0,0])linear_extrude(.3)text(\"when option is set to '0' fillet is drawn outside\",1.5);\n",
    "\n",
    "// when option is set to '1'\n",
    "translate([0,70,0]){{\n",
    "%{swp(p)}\n",
    "%{swp(p1)}\n",
    "{swp_c(fillet2)}\n",
    "}}\n",
    "color(\"blue\")translate([0,70,20])rotate([90,0,0])linear_extrude(.3)text(\"when option is set to '1' fillet is drawn inside\",1.5);\n",
    "\n",
    "// when the surface first is flipped and option is set to '1'\n",
    "translate([100,70,0]){{\n",
    "%{swp(p)}\n",
    "%{swp(p1)}\n",
    "{swp_c(fillet3)}\n",
    "}}\n",
    "color(\"blue\")translate([100,70,20])rotate([90,0,0])linear_extrude(.3)text(\"when surface is fliiped and option is set to '1' fillet is drawn on reverse direction outside\",1.5);\n",
    "\n",
    "\n",
    "// when the surface first is flipped and option is set to '0'\n",
    "translate([100,0,0]){{\n",
    "%{swp(p)}\n",
    "%{swp(p1)}\n",
    "{swp_c(fillet4)}\n",
    "}}\n",
    "color(\"blue\")translate([100,0,20])rotate([90,0,0])linear_extrude(.3)text(\"when surface is fliiped and option is set to '0' fillet is drawn on reverse direction inside\",1.5);\n",
    "\n",
    "''') \n",
    "t1=time.time()\n",
    "total=t1-t0\n",
    "total"
   ]
  },
  {
   "cell_type": "code",
   "execution_count": 65,
   "id": "b1b97f39",
   "metadata": {},
   "outputs": [
    {
     "data": {
      "text/plain": [
       "0.4798920154571533"
      ]
     },
     "execution_count": 65,
     "metadata": {},
     "output_type": "execute_result"
    }
   ],
   "source": [
    "# example of function ipf(prism,prism1,r,s,o=0)\n",
    "\n",
    "t0=time.time()\n",
    "\n",
    "sec=circle(10)\n",
    "path=cr(pts1([[2,0],[-2,0,2],[0,10,3],[-9.9,0]]),5)\n",
    "p=prism(sec,path)\n",
    "p1=cylinder(r=5,h=15,s=30)\n",
    "fillet1=ipf(p,p1,2,10,0)\n",
    "fillet2=ipf(p,p1,2,10,1)\n",
    "fillet3=ipf(p,flip(p1),2,10,1)\n",
    "fillet4=ipf(p,flip(p1),2,10,0)\n",
    "\n",
    "\n",
    "\n",
    "with open('/Users/sanjeevprabhakar/iCloud Drive (Archive)/Documents/Download/openscad/trial.scad','w+') as f:\n",
    "    f.write(f'''\n",
    "include<dependencies2.scad> \n",
    "// when option is set to '0'\n",
    "%{swp(p)}\n",
    "%{swp(p1)}\n",
    "{swp_c(fillet1)}\n",
    "color(\"blue\")translate([0,0,20])rotate([90,0,0])linear_extrude(.3)text(\"when option is set to '0' fillet is drawn outside\",1.5);\n",
    "\n",
    "// when option is set to '1'\n",
    "translate([0,70,0]){{\n",
    "%{swp(p)}\n",
    "%{swp(p1)}\n",
    "{swp_c(fillet2)}\n",
    "}}\n",
    "color(\"blue\")translate([0,70,20])rotate([90,0,0])linear_extrude(.3)text(\"when option is set to '1' fillet is drawn inside\",1.5);\n",
    "\n",
    "// when the surface first is flipped and option is set to '1'\n",
    "translate([100,70,0]){{\n",
    "%{swp(p)}\n",
    "%{swp(p1)}\n",
    "{swp_c(fillet3)}\n",
    "}}\n",
    "color(\"blue\")translate([100,70,20])rotate([90,0,0])linear_extrude(.3)text(\"when intersecting prism 'p1' is flipped and option is set to '1' fillet is drawn on reverse direction outside\",1.5);\n",
    "\n",
    "\n",
    "// when the surface first is flipped and option is set to '0'\n",
    "translate([100,0,0]){{\n",
    "%{swp(p)}\n",
    "%{swp(p1)}\n",
    "{swp_c(fillet4)}\n",
    "}}\n",
    "color(\"blue\")translate([100,0,20])rotate([90,0,0])linear_extrude(.3)text(\"when intersecting prism 'p1' is flipped and option is set to '0' fillet is drawn on reverse direction inside\",1.5);\n",
    "\n",
    "''') \n",
    "t1=time.time()\n",
    "total=t1-t0\n",
    "total"
   ]
  },
  {
   "cell_type": "code",
   "execution_count": 66,
   "id": "7b2abf12",
   "metadata": {},
   "outputs": [],
   "source": [
    "# example of function multiple_sec_extrude(path_points=[],radiuses_list=[],sections_list=[],option=0,s=10)\n",
    "\n",
    "sec1=circle(10)\n",
    "sec2=square(5,True)\n",
    "sec3=cr(pts1([[-3.5,-2.5,3],[7,0,3],[0,5,3],[-7,0,3]]))\n",
    "sections=[sec1,sec2,sec3,sec1,sec3]\n",
    "path=array([[0,0,0],[20,2,5],[-7,25,3],[5,10,30],[-30,15,3]]).cumsum(0)\n",
    "r=[0,5,7,12,0]\n",
    "\n",
    "with open('/Users/sanjeevprabhakar/iCloud Drive (Archive)/Documents/Download/openscad/trial.scad','w+')as f:\n",
    "    f.write(f'''\n",
    "include<dependencies2.scad>\n",
    "color(\"blue\")for(p={multiple_sec_extrude(path,r,sections,0,20)})p_line3dc(p,.1);\n",
    "{swp(multiple_sec_extrude(path,r,sections,0,20))}\n",
    "    ''')"
   ]
  },
  {
   "cell_type": "code",
   "execution_count": 67,
   "id": "9e495a58",
   "metadata": {},
   "outputs": [],
   "source": [
    "# example of function path_extrude(sec,path)\n",
    "\n",
    "sec=cr(pts1([[0,0,.2],[3,0,.2],[0,2,.2],[-3,0,.2]]),10)\n",
    "path=helix(10,5,4,5)\n",
    "sol=path_extrude(sec,path)\n",
    "with open('/Users/sanjeevprabhakar/iCloud Drive (Archive)/Documents/Download/openscad/trial.scad','w+')as f:\n",
    "    f.write(f'''\n",
    "include<dependencies2.scad>\n",
    "{swp(sol)}\n",
    "    ''')"
   ]
  },
  {
   "cell_type": "code",
   "execution_count": 68,
   "id": "bedcb925",
   "metadata": {},
   "outputs": [],
   "source": [
    "# example of function path_extrudec(sec,path)\n",
    "\n",
    "sec=cr(pts1([[0,0,.2],[3,0,.2],[0,2,.2],[-3,0,.2]]),10)\n",
    "path=c2t3(circle(10))\n",
    "sol=path_extrudec(sec,path)\n",
    "with open('/Users/sanjeevprabhakar/iCloud Drive (Archive)/Documents/Download/openscad/trial.scad','w+')as f:\n",
    "    f.write(f'''\n",
    "include<dependencies2.scad>\n",
    "{swp_c(sol)}\n",
    "    ''')"
   ]
  },
  {
   "cell_type": "code",
   "execution_count": 69,
   "id": "10e541d1",
   "metadata": {},
   "outputs": [],
   "source": [
    "# example of function cylinder(r1=1,r2=1,h=1,cp=[0,0],s=50,r=0,d=0,d1=0,d2=0,center=False)\n",
    "\n",
    "sol=cylinder(r1=10,r2=5,h=20)\n",
    "with open('/Users/sanjeevprabhakar/iCloud Drive (Archive)/Documents/Download/openscad/trial.scad','w+')as f:\n",
    "    f.write(f'''\n",
    "include<dependencies2.scad>\n",
    "{swp(sol)}\n",
    "    ''')"
   ]
  },
  {
   "cell_type": "code",
   "execution_count": 72,
   "id": "691003eb",
   "metadata": {},
   "outputs": [],
   "source": [
    "# example of function bezier(p,s=10)\n",
    "\n",
    "control_points=pts([[0,0],[10,5],[0,20],[-10,5],[2,10]])\n",
    "curve=bezier(control_points,50)\n",
    "\n",
    "with open('/Users/sanjeevprabhakar/iCloud Drive (Archive)/Documents/Download/openscad/trial.scad','w+')as f:\n",
    "    f.write(f'''\n",
    "include<dependencies2.scad>\n",
    "color(\"blue\")points({curve},.2);\n",
    "// control points\n",
    "color(\"magenta\")points({control_points},.5);\n",
    "color(\"cyan\")p_lineo({control_points},.05);\n",
    "    ''')"
   ]
  },
  {
   "cell_type": "code",
   "execution_count": 73,
   "id": "bd017267",
   "metadata": {},
   "outputs": [],
   "source": [
    "# example of function arc_3d(v=[0,0,1],r=1,theta1=0,theta2=360,cw=-1,s=50)\n",
    "vector=[[0,0,0],[2,7,1]]\n",
    "arc=arc_3d(v=[2,7,1],r=3,theta1=0,theta2=90,cw=-1,s=50)\n",
    "\n",
    "with open('/Users/sanjeevprabhakar/iCloud Drive (Archive)/Documents/Download/openscad/trial.scad','w+')as f:\n",
    "    f.write(f'''\n",
    "include<dependencies2.scad>\n",
    "//arc\n",
    "color(\"blue\")p_line3d({arc},.1);\n",
    "// vector\n",
    "color(\"cyan\")p_line3d({vector},.1);\n",
    "\n",
    "    ''')"
   ]
  },
  {
   "cell_type": "code",
   "execution_count": 75,
   "id": "b366a8a6",
   "metadata": {},
   "outputs": [],
   "source": [
    "# example of function plane(nv,radius)\n",
    "\n",
    "vector=[[0,0,0],[2,7,1]]\n",
    "plane1=plane(nv=[2,7,1],radius=20)\n",
    "\n",
    "with open('/Users/sanjeevprabhakar/iCloud Drive (Archive)/Documents/Download/openscad/trial.scad','w+')as f:\n",
    "    f.write(f'''\n",
    "include<dependencies2.scad>\n",
    "\n",
    "//plane\n",
    "%{swp(plane1)}\n",
    "\n",
    "// vector\n",
    "color(\"magenta\")p_line3d({vector},.1);\n",
    "\n",
    "    ''')"
   ]
  },
  {
   "cell_type": "code",
   "execution_count": 76,
   "id": "2fe94d30",
   "metadata": {},
   "outputs": [],
   "source": [
    "#  example of function c_hull(pnt)\n",
    "a=random.random(100)*(20-5)+5\n",
    "b=random.random(100)*(30-10)+10\n",
    "points=array([a,b]).transpose(1,0).tolist()\n",
    "convex_hull=c_hull(points)\n",
    "with open('/Users/sanjeevprabhakar/iCloud Drive (Archive)/Documents/Download/openscad/trial.scad','w+')as f:\n",
    "    f.write(f'''\n",
    "include<dependencies2.scad>\n",
    "\n",
    "points({points},.2);\n",
    "color(\"blue\")p_line({convex_hull},.05);\n",
    "\n",
    "    ''')\n"
   ]
  },
  {
   "cell_type": "code",
   "execution_count": 77,
   "id": "936240c6",
   "metadata": {},
   "outputs": [],
   "source": [
    "# example of function convex(sec)\n",
    "sec1=cr_c(pts1([[0,0,.2],[8,3,3],[5,7,1],[-8,0,2],[-5,20,1]]),20)\n",
    "sec2=cr_c(pts1([[0,0,.1],[7,5,2],[5,7,3],[-5,7,5],[-7,5,5]]),20)\n",
    "convex(sec1),convex(sec2)\n",
    "\n",
    "with open('/Users/sanjeevprabhakar/iCloud Drive (Archive)/Documents/Download/openscad/trial.scad','w+')as f:\n",
    "    f.write(f'''\n",
    "include<dependencies2.scad>\n",
    "\n",
    "// not a convex section\n",
    "color(\"blue\")p_line({sec1},.05);\n",
    "\n",
    "//convex section\n",
    "color(\"magenta\")translate([20,0,0])p_line({sec2},.05);\n",
    "\n",
    "    ''')"
   ]
  },
  {
   "cell_type": "code",
   "execution_count": 78,
   "id": "d703ec42",
   "metadata": {},
   "outputs": [],
   "source": [
    "# example of function cir_p_t(cir,pnt)\n",
    "cir=c3t2(trns([20,10,0],circle(10)))\n",
    "point=[3,5]\n",
    "tangent_point=cir_p_t(cir,point)\n",
    "with open('/Users/sanjeevprabhakar/iCloud Drive (Archive)/Documents/Download/openscad/trial.scad','w+')as f:\n",
    "    f.write(f'''\n",
    "include<dependencies2.scad>\n",
    "\n",
    "%p_line({cir},.1);\n",
    "color(\"magenta\")points({[point]},.5);\n",
    "color(\"cyan\")points({[tangent_point]},.5);\n",
    "color(\"blue\")p_line({[point,tangent_point]},.05);\n",
    "    ''')"
   ]
  },
  {
   "cell_type": "code",
   "execution_count": 79,
   "id": "a41638a4",
   "metadata": {},
   "outputs": [],
   "source": [
    "# example of function concave_hull(pnts,x=1,loops=10)\n",
    "\n",
    "a=random.random(100)*(20-5)+5\n",
    "b=random.random(100)*(30-10)+10\n",
    "points=array([a,b]).transpose(1,0).tolist()\n",
    "conc_hull=concave_hull(points,2,10)\n",
    "with open('/Users/sanjeevprabhakar/iCloud Drive (Archive)/Documents/Download/openscad/trial.scad','w+')as f:\n",
    "    f.write(f'''\n",
    "include<dependencies2.scad>\n",
    "\n",
    "points({points},.2);\n",
    "color(\"blue\")p_line({conc_hull},.05);\n",
    "\n",
    "    ''')\n"
   ]
  }
 ],
 "metadata": {
  "kernelspec": {
   "display_name": "Python 3 (ipykernel)",
   "language": "python",
   "name": "python3"
  },
  "language_info": {
   "codemirror_mode": {
    "name": "ipython",
    "version": 3
   },
   "file_extension": ".py",
   "mimetype": "text/x-python",
   "name": "python",
   "nbconvert_exporter": "python",
   "pygments_lexer": "ipython3",
   "version": "3.8.10"
  }
 },
 "nbformat": 4,
 "nbformat_minor": 5
}
