{
 "cells": [
  {
   "cell_type": "code",
   "execution_count": 1,
   "id": "cd778a4f",
   "metadata": {},
   "outputs": [],
   "source": [
    "from openscad import *"
   ]
  },
  {
   "cell_type": "code",
   "execution_count": 4,
   "id": "2c28986f",
   "metadata": {},
   "outputs": [
    {
     "data": {
      "text/plain": [
       "1.0601778030395508"
      ]
     },
     "execution_count": 4,
     "metadata": {},
     "output_type": "execute_result"
    }
   ],
   "source": [
    "# example of surf_extrude\n",
    "t0=time.time()\n",
    "\n",
    "sec2=cr(pts1([[-25,0],[10,5,5],[10,-3,10],[10,5,5],[10,-8,7],[10,1]]),10)  \n",
    "path2=cytz(cr(pts1([[-35,5,0],[10,8,20],[20,-5,10],[20,8,20],[10,-9,20],[10,1,0]]),10))\n",
    "surf2=surf_extrude(sec2,path2)\n",
    "\n",
    "with open('/Users/sanjeevprabhakar/iCloud Drive (Archive)/Documents/Download/openscad/trial.scad','w+') as f:\n",
    "    f.write(f'''\n",
    "include<dependencies2.scad> \n",
    "for(p={surf2})points(p,.2);\n",
    "\n",
    "''') \n",
    "t1=time.time()\n",
    "total=t1-t0\n",
    "total"
   ]
  },
  {
   "cell_type": "code",
   "execution_count": 5,
   "id": "365c0463",
   "metadata": {},
   "outputs": [
    {
     "data": {
      "text/plain": [
       "1.1184639930725098"
      ]
     },
     "execution_count": 5,
     "metadata": {},
     "output_type": "execute_result"
    }
   ],
   "source": [
    "# example of surf_extrudef\n",
    "t0=time.time()\n",
    "\n",
    "sec2=cr(pts1([[-25,0],[10,5,5],[10,-3,10],[10,5,5],[10,-8,7],[10,1]]),10)  \n",
    "path2=cytz(cr(pts1([[-35,5,0],[10,8,20],[20,-5,10],[20,8,20],[10,-9,20],[10,1,0]]),10))\n",
    "surf2=surf_extrude(sec2,path2)\n",
    "surf3=surf_extrudef(surf2,t=-1)\n",
    "\n",
    "with open('/Users/sanjeevprabhakar/iCloud Drive (Archive)/Documents/Download/openscad/trial.scad','w+') as f:\n",
    "    f.write(f'''\n",
    "include<dependencies2.scad> \n",
    "{swp(surf3)}\n",
    "\n",
    "''') \n",
    "t1=time.time()\n",
    "total=t1-t0\n",
    "total"
   ]
  },
  {
   "cell_type": "code",
   "execution_count": 6,
   "id": "d8c8a8c7",
   "metadata": {},
   "outputs": [],
   "source": [
    "# example of function fillet_2cir\n",
    "\n",
    "fillet=fillet_2cir(r1=5,r2=3,c1=[0,0],c2=[7,0],r=1)\n",
    "with open('/Users/sanjeevprabhakar/iCloud Drive (Archive)/Documents/Download/openscad/trial.scad','w+') as f:\n",
    "    f.write(f'''\n",
    "include<dependencies2.scad> \n",
    "%p_line({circle(5)},.2);\n",
    "    %p_line({circle(3,[7,0])},.2);\n",
    "    p_line({fillet},.2);\n",
    "\n",
    "''') \n",
    "\n"
   ]
  },
  {
   "cell_type": "code",
   "execution_count": 7,
   "id": "9156f8f5",
   "metadata": {},
   "outputs": [],
   "source": [
    "# example of function filleto_2cir and arc_long_2p\n",
    "\n",
    "fillet=filleto_2cir(r1=10,r2=10,c1=[0,0],c2=[20,0],r=10)\n",
    "p0,p1,p2,p3=fillet[1][len(fillet[1])-1], fillet[0][0],fillet[0][len(fillet[0])-1],fillet[1][0]\n",
    "cir1=arc_long_2p(p0,p1,10,-1,40)\n",
    "cir2=arc_long_2p(p2,p3,10,-1,40)\n",
    "with open('/Users/sanjeevprabhakar/iCloud Drive (Archive)/Documents/Download/openscad/trial.scad','w+') as f:\n",
    "    f.write(f'''\n",
    "include<dependencies2.scad> \n",
    "    //%p_line({circle(10)},.2);\n",
    "    //%p_line({circle(10,[20,0])},.2);\n",
    "    color(\"blue\")p_lineo({fillet[0]},.2);\n",
    "    color(\"yellow\")p_lineo({fillet[1]},.2);\n",
    "    color(\"magenta\")p_lineo({cir1},.2);\n",
    "    color(\"cyan\")p_lineo({cir2},.2);\n",
    "    \n",
    "    \n",
    "''') "
   ]
  },
  {
   "cell_type": "code",
   "execution_count": 8,
   "id": "a5bc8192",
   "metadata": {},
   "outputs": [],
   "source": [
    "# example of function rm(theta)\n",
    "\n",
    "line=[[0,0],[5,3]]\n",
    "line1=array(line)@rm(30)\n",
    "line1=line1.tolist()\n",
    "\n",
    "with open('/Users/sanjeevprabhakar/iCloud Drive (Archive)/Documents/Download/openscad/trial.scad','w+') as f:\n",
    "    f.write(f'''\n",
    "include<dependencies2.scad> \n",
    "color(\"yellow\")p_lineo({line},.1); // original line\n",
    "color(\"blue\")p_lineo({line1},.1); // line rotated by 30 degrees\n",
    "\n",
    "  \n",
    "''') \n"
   ]
  },
  {
   "cell_type": "code",
   "execution_count": 9,
   "id": "2ef5aa13",
   "metadata": {},
   "outputs": [],
   "source": [
    "# example of function cr(pl,s)\n",
    "\n",
    "sec=cr(pl=[[0,0,.5],[10,0,2],[7,15,1]],s=5)\n",
    "\n",
    "with open('/Users/sanjeevprabhakar/iCloud Drive (Archive)/Documents/Download/openscad/trial.scad','w+') as f:\n",
    "    f.write(f'''\n",
    "include<dependencies2.scad> \n",
    "color(\"blue\")p_line({sec},.1); \n",
    "    \n",
    "    \n",
    "''') "
   ]
  },
  {
   "cell_type": "code",
   "execution_count": 10,
   "id": "be5b9175",
   "metadata": {},
   "outputs": [],
   "source": [
    "# example of function trns(p,sec)\n",
    "\n",
    "sec=cr([[0,0,.5],[10,0,2],[7,15,1]],5)\n",
    "sec1=trns(p=[2,5,3],sec=sec)\n",
    "\n",
    "with open('/Users/sanjeevprabhakar/iCloud Drive (Archive)/Documents/Download/openscad/trial.scad','w+') as f:\n",
    "    f.write(f'''\n",
    "include<dependencies2.scad> \n",
    "color(\"blue\")p_line({sec},.1); \n",
    "color(\"magenta\")p_line3dc({sec1},.1);\n",
    "    \n",
    "    \n",
    "''') \n"
   ]
  },
  {
   "cell_type": "code",
   "execution_count": 11,
   "id": "0181f9d2",
   "metadata": {},
   "outputs": [],
   "source": [
    "# example of function scl2d(sec,sl)\n",
    "\n",
    "sec=cr([[0,0,.5],[10,0,2],[7,15,1]],5)\n",
    "sec1=scl2d(sec,.7)\n",
    "with open('/Users/sanjeevprabhakar/iCloud Drive (Archive)/Documents/Download/openscad/trial.scad','w+') as f:\n",
    "    f.write(f'''\n",
    "include<dependencies2.scad> \n",
    "color(\"blue\")p_line({sec},.1); \n",
    "color(\"magenta\")p_line({sec1},.1);\n",
    "    \n",
    "    \n",
    "''') "
   ]
  },
  {
   "cell_type": "code",
   "execution_count": 12,
   "id": "e98cc754",
   "metadata": {},
   "outputs": [],
   "source": [
    "# example of function scl2d_c(sec,sl)\n",
    "\n",
    "sec=cr([[0,0,.5],[10,0,2],[7,15,1]],5)\n",
    "sec1=scl2d_c(sec,.7)\n",
    "   \n",
    "with open('/Users/sanjeevprabhakar/iCloud Drive (Archive)/Documents/Download/openscad/trial.scad','w+') as f:\n",
    "    f.write(f'''\n",
    "include<dependencies2.scad> \n",
    "color(\"blue\")p_line({sec},.1); \n",
    "color(\"magenta\")p_line({sec1},.1);\n",
    "    \n",
    "    \n",
    "''') "
   ]
  },
  {
   "cell_type": "code",
   "execution_count": 13,
   "id": "bc204e5b",
   "metadata": {},
   "outputs": [],
   "source": [
    "# example of function scl3d(p,s)\n",
    "\n",
    "sec=circle(10);\n",
    "path=cr(pts1([[2,0],[-2,0,2],[0,10,3],[-3,0]]),5)\n",
    "sol=prism(sec,path)\n",
    "sol1=scl3d(sol,.7)\n",
    "   \n",
    "with open('/Users/sanjeevprabhakar/iCloud Drive (Archive)/Documents/Download/openscad/trial.scad','w+') as f:\n",
    "    f.write(f'''\n",
    "include<dependencies2.scad> \n",
    "%{swp(sol)}\n",
    "{swp(sol1)}\n",
    "    \n",
    "    \n",
    "''') "
   ]
  },
  {
   "cell_type": "code",
   "execution_count": 14,
   "id": "361c00ca",
   "metadata": {},
   "outputs": [],
   "source": [
    "# example of function ip(prism,prism1)\n",
    "\n",
    "sec=circle(10)\n",
    "path=cr(pts1([[2,0],[-2,0,2],[0,10,3],[-9.9,0]]),5)\n",
    "p=prism(sec,path)\n",
    "p1=cylinder(r=3,h=15,s=30)\n",
    "ip1=ip(p,p1)\n",
    "   \n",
    "with open('/Users/sanjeevprabhakar/iCloud Drive (Archive)/Documents/Download/openscad/trial.scad','w+') as f:\n",
    "    f.write(f'''\n",
    "include<dependencies2.scad> \n",
    "%{swp(p)}\n",
    "{swp(p1)}\n",
    "color(\"blue\")points({ip1},.2);\n",
    "    \n",
    "    \n",
    "''') \n"
   ]
  },
  {
   "cell_type": "code",
   "execution_count": 15,
   "id": "4a9d3f67",
   "metadata": {},
   "outputs": [],
   "source": [
    "# example of function tctp(r1,r2,cp1,cp2)\n",
    "cir1=circle(10)\n",
    "cir2=circle(5,[15,6])\n",
    "sec=tctp(r1=10,r2=5,cp1=[0,0],cp2=[15,6]);\n",
    "\n",
    "   \n",
    "with open('/Users/sanjeevprabhakar/iCloud Drive (Archive)/Documents/Download/openscad/trial.scad','w+') as f:\n",
    "    f.write(f'''\n",
    "include<dependencies2.scad> \n",
    "p_line({cir1},.1);\n",
    "p_line({cir2},.1);\n",
    "color(\"blue\")p_line({sec},.1);\n",
    "    \n",
    "    \n",
    "''') \n"
   ]
  },
  {
   "cell_type": "code",
   "execution_count": 16,
   "id": "0fb4a19d",
   "metadata": {},
   "outputs": [],
   "source": [
    "# example of function tctpf(r1,r2,cp1,cp2)\n",
    "cir1=circle(10)\n",
    "cir2=circle(5,[15,6])\n",
    "sec=tctpf(r1=10,r2=5,cp1=[0,0],cp2=[15,6]);\n",
    "\n",
    "   \n",
    "with open('/Users/sanjeevprabhakar/iCloud Drive (Archive)/Documents/Download/openscad/trial.scad','w+') as f:\n",
    "    f.write(f'''\n",
    "include<dependencies2.scad> \n",
    "p_line({cir1},.1);\n",
    "p_line({cir2},.1);\n",
    "color(\"blue\")p_line({sec},.1);\n",
    "    \n",
    "    \n",
    "''') \n"
   ]
  },
  {
   "cell_type": "code",
   "execution_count": 17,
   "id": "1f39aaeb",
   "metadata": {},
   "outputs": [
    {
     "data": {
      "text/plain": [
       "4.0748820304870605"
      ]
     },
     "execution_count": 17,
     "metadata": {},
     "output_type": "execute_result"
    }
   ],
   "source": [
    "# example of function fillet_surf2sol(surf1,sol1,r,s,o)\n",
    "\n",
    "t0=time.time()\n",
    "\n",
    "sec1=arc(20,0,359,s=150)\n",
    "path1=[[0,0],[-5,25]]\n",
    "\n",
    "surf1=prism(sec1,path1)\n",
    "\n",
    "sec2=cr(pts1([[-25,0],[10,5,5],[10,-3,10],[10,5,5],[10,-8,7],[10,1]]),10)  \n",
    "path2=cytz(cr(pts1([[-35,5,0],[10,8,20],[20,-5,10],[20,8,20],[10,-9,20],[10,1,0]]),10))\n",
    "surf2=surf_extrude(sec2,path2)\n",
    "\n",
    "p=fillet_surf2sol(surf2,surf1,2,10,0)\n",
    "p1=fillet_surf2sol(surf2,surf1,2,10,1)\n",
    "p2=fillet_surf2sol(flip(surf2),surf1,2,10,1)\n",
    "p3=fillet_surf2sol(flip(surf2),surf1,2,10,0)\n",
    "\n",
    "\n",
    "\n",
    "with open('/Users/sanjeevprabhakar/iCloud Drive (Archive)/Documents/Download/openscad/trial.scad','w+') as f:\n",
    "    f.write(f'''\n",
    "include<dependencies2.scad> \n",
    "// when option is set to '0'\n",
    "%{swp(surf1)}\n",
    "%{swp(surf_extrudef(surf2,-.05))}\n",
    "{swp_c(p)}\n",
    "color(\"blue\")translate([0,0,30])rotate([90,0,0])linear_extrude(.3)text(\"when option is set to '0' fillet is drawn outside\",1.5);\n",
    "\n",
    "// when option is set to '1'\n",
    "translate([0,70,0]){{\n",
    "%{swp(surf1)}\n",
    "%{swp(surf_extrudef(surf2,-.05))}\n",
    "{swp_c(p1)}\n",
    "}}\n",
    "color(\"blue\")translate([0,70,30])rotate([90,0,0])linear_extrude(.3)text(\"when option is set to '1' fillet is drawn inside\",1.5);\n",
    "\n",
    "// when the surface first is flipped and option is set to '1'\n",
    "translate([100,70,0]){{\n",
    "%{swp(surf1)}\n",
    "%{swp(surf_extrudef(surf2,-.05))}\n",
    "{swp_c(p2)}\n",
    "}}\n",
    "color(\"blue\")translate([100,70,30])rotate([90,0,0])linear_extrude(.3)text(\"when surface is fliiped and option is set to '1' fillet is drawn on reverse direction outside\",1.5);\n",
    "\n",
    "\n",
    "// when the surface first is flipped and option is set to '0'\n",
    "translate([100,0,0]){{\n",
    "%{swp(surf1)}\n",
    "%{swp(surf_extrudef(surf2,-.05))}\n",
    "{swp_c(p3)}\n",
    "}}\n",
    "color(\"blue\")translate([100,0,30])rotate([90,0,0])linear_extrude(.3)text(\"when surface is fliiped and option is set to '0' fillet is drawn on reverse direction inside\",1.5);\n",
    "\n",
    "''') \n",
    "t1=time.time()\n",
    "total=t1-t0\n",
    "total"
   ]
  },
  {
   "cell_type": "code",
   "execution_count": 18,
   "id": "f53c7592",
   "metadata": {},
   "outputs": [
    {
     "data": {
      "text/plain": [
       "0.4464530944824219"
      ]
     },
     "execution_count": 18,
     "metadata": {},
     "output_type": "execute_result"
    }
   ],
   "source": [
    "# example of function fillet_sol2sol(surf1,sol1,r,s,o)\n",
    "\n",
    "t0=time.time()\n",
    "\n",
    "sec=circle(10)\n",
    "path=cr(pts1([[2,0],[-2,0,2],[0,10,3],[-9.9,0]]),5)\n",
    "p=prism(sec,path)\n",
    "p1=cylinder(r=5,h=15,s=30)\n",
    "fillet1=fillet_sol2sol(p,p1,2,10,0)\n",
    "fillet2=fillet_sol2sol(p,p1,2,10,1)\n",
    "fillet3=fillet_sol2sol(flip(p),p1,2,10,1)\n",
    "fillet4=fillet_sol2sol(flip(p),p1,2,10,0)\n",
    "\n",
    "\n",
    "\n",
    "with open('/Users/sanjeevprabhakar/iCloud Drive (Archive)/Documents/Download/openscad/trial.scad','w+') as f:\n",
    "    f.write(f'''\n",
    "include<dependencies2.scad> \n",
    "// when option is set to '0'\n",
    "%{swp(p)}\n",
    "%{swp(p1)}\n",
    "{swp_c(fillet1)}\n",
    "color(\"blue\")translate([0,0,20])rotate([90,0,0])linear_extrude(.3)text(\"when option is set to '0' fillet is drawn outside\",1.5);\n",
    "\n",
    "// when option is set to '1'\n",
    "translate([0,70,0]){{\n",
    "%{swp(p)}\n",
    "%{swp(p1)}\n",
    "{swp_c(fillet2)}\n",
    "}}\n",
    "color(\"blue\")translate([0,70,20])rotate([90,0,0])linear_extrude(.3)text(\"when option is set to '1' fillet is drawn inside\",1.5);\n",
    "\n",
    "// when the surface first is flipped and option is set to '1'\n",
    "translate([100,70,0]){{\n",
    "%{swp(p)}\n",
    "%{swp(p1)}\n",
    "{swp_c(fillet3)}\n",
    "}}\n",
    "color(\"blue\")translate([100,70,20])rotate([90,0,0])linear_extrude(.3)text(\"when surface is fliiped and option is set to '1' fillet is drawn on reverse direction outside\",1.5);\n",
    "\n",
    "\n",
    "// when the surface first is flipped and option is set to '0'\n",
    "translate([100,0,0]){{\n",
    "%{swp(p)}\n",
    "%{swp(p1)}\n",
    "{swp_c(fillet4)}\n",
    "}}\n",
    "color(\"blue\")translate([100,0,20])rotate([90,0,0])linear_extrude(.3)text(\"when surface is fliiped and option is set to '0' fillet is drawn on reverse direction inside\",1.5);\n",
    "\n",
    "''') \n",
    "t1=time.time()\n",
    "total=t1-t0\n",
    "total"
   ]
  },
  {
   "cell_type": "code",
   "execution_count": 19,
   "id": "b1b97f39",
   "metadata": {},
   "outputs": [
    {
     "data": {
      "text/plain": [
       "0.47626709938049316"
      ]
     },
     "execution_count": 19,
     "metadata": {},
     "output_type": "execute_result"
    }
   ],
   "source": [
    "# example of function ipf(prism,prism1,r,s,o=0)\n",
    "\n",
    "t0=time.time()\n",
    "\n",
    "sec=circle(10)\n",
    "path=cr(pts1([[2,0],[-2,0,2],[0,10,3],[-9.9,0]]),5)\n",
    "p=prism(sec,path)\n",
    "p1=cylinder(r=5,h=15,s=30)\n",
    "fillet1=ipf(p,p1,2,10,0)\n",
    "fillet2=ipf(p,p1,2,10,1)\n",
    "fillet3=ipf(p,flip(p1),2,10,1)\n",
    "fillet4=ipf(p,flip(p1),2,10,0)\n",
    "\n",
    "\n",
    "\n",
    "with open('/Users/sanjeevprabhakar/iCloud Drive (Archive)/Documents/Download/openscad/trial.scad','w+') as f:\n",
    "    f.write(f'''\n",
    "include<dependencies2.scad> \n",
    "// when option is set to '0'\n",
    "%{swp(p)}\n",
    "%{swp(p1)}\n",
    "{swp_c(fillet1)}\n",
    "color(\"blue\")translate([0,0,20])rotate([90,0,0])linear_extrude(.3)text(\"when option is set to '0' fillet is drawn outside\",1.5);\n",
    "\n",
    "// when option is set to '1'\n",
    "translate([0,70,0]){{\n",
    "%{swp(p)}\n",
    "%{swp(p1)}\n",
    "{swp_c(fillet2)}\n",
    "}}\n",
    "color(\"blue\")translate([0,70,20])rotate([90,0,0])linear_extrude(.3)text(\"when option is set to '1' fillet is drawn inside\",1.5);\n",
    "\n",
    "// when the surface first is flipped and option is set to '1'\n",
    "translate([100,70,0]){{\n",
    "%{swp(p)}\n",
    "%{swp(p1)}\n",
    "{swp_c(fillet3)}\n",
    "}}\n",
    "color(\"blue\")translate([100,70,20])rotate([90,0,0])linear_extrude(.3)text(\"when intersecting prism 'p1' is flipped and option is set to '1' fillet is drawn on reverse direction outside\",1.5);\n",
    "\n",
    "\n",
    "// when the surface first is flipped and option is set to '0'\n",
    "translate([100,0,0]){{\n",
    "%{swp(p)}\n",
    "%{swp(p1)}\n",
    "{swp_c(fillet4)}\n",
    "}}\n",
    "color(\"blue\")translate([100,0,20])rotate([90,0,0])linear_extrude(.3)text(\"when intersecting prism 'p1' is flipped and option is set to '0' fillet is drawn on reverse direction inside\",1.5);\n",
    "\n",
    "''') \n",
    "t1=time.time()\n",
    "total=t1-t0\n",
    "total"
   ]
  },
  {
   "cell_type": "code",
   "execution_count": 20,
   "id": "7b2abf12",
   "metadata": {},
   "outputs": [],
   "source": [
    "# example of function multiple_sec_extrude(path_points=[],radiuses_list=[],sections_list=[],option=0,s=10)\n",
    "\n",
    "sec1=circle(10)\n",
    "sec2=square(5,True)\n",
    "sec3=cr(pts1([[-3.5,-2.5,3],[7,0,3],[0,5,3],[-7,0,3]]))\n",
    "sections=[sec1,sec2,sec3,sec1,sec3]\n",
    "path=array([[0,0,0],[20,2,5],[-7,25,3],[5,10,30],[-30,15,3]]).cumsum(0)\n",
    "r=[0,5,7,12,0]\n",
    "\n",
    "with open('/Users/sanjeevprabhakar/iCloud Drive (Archive)/Documents/Download/openscad/trial.scad','w+')as f:\n",
    "    f.write(f'''\n",
    "include<dependencies2.scad>\n",
    "color(\"blue\")for(p={multiple_sec_extrude(path,r,sections,0,20)})p_line3dc(p,.1);\n",
    "{swp(multiple_sec_extrude(path,r,sections,0,20))}\n",
    "    ''')"
   ]
  },
  {
   "cell_type": "code",
   "execution_count": 21,
   "id": "9e495a58",
   "metadata": {},
   "outputs": [],
   "source": [
    "# example of function path_extrude(sec,path)\n",
    "\n",
    "sec=cr(pts1([[0,0,.2],[3,0,.2],[0,2,.2],[-3,0,.2]]),10)\n",
    "path=helix(10,5,4,5)\n",
    "sol=path_extrude(sec,path)\n",
    "with open('/Users/sanjeevprabhakar/iCloud Drive (Archive)/Documents/Download/openscad/trial.scad','w+')as f:\n",
    "    f.write(f'''\n",
    "include<dependencies2.scad>\n",
    "{swp(sol)}\n",
    "    ''')"
   ]
  },
  {
   "cell_type": "code",
   "execution_count": 22,
   "id": "bedcb925",
   "metadata": {},
   "outputs": [],
   "source": [
    "# example of function path_extrudec(sec,path)\n",
    "\n",
    "sec=cr(pts1([[0,0,.2],[3,0,.2],[0,2,.2],[-3,0,.2]]),10)\n",
    "path=c2t3(circle(10))\n",
    "sol=path_extrudec(sec,path)\n",
    "with open('/Users/sanjeevprabhakar/iCloud Drive (Archive)/Documents/Download/openscad/trial.scad','w+')as f:\n",
    "    f.write(f'''\n",
    "include<dependencies2.scad>\n",
    "{swp_c(sol)}\n",
    "    ''')"
   ]
  },
  {
   "cell_type": "code",
   "execution_count": 23,
   "id": "10e541d1",
   "metadata": {},
   "outputs": [],
   "source": [
    "# example of function cylinder(r1=1,r2=1,h=1,cp=[0,0],s=50,r=0,d=0,d1=0,d2=0,center=False) and function swp\n",
    "\n",
    "sol=cylinder(r1=10,r2=5,h=20)\n",
    "with open('/Users/sanjeevprabhakar/iCloud Drive (Archive)/Documents/Download/openscad/trial.scad','w+')as f:\n",
    "    f.write(f'''\n",
    "include<dependencies2.scad>\n",
    "{swp(sol)}\n",
    "    ''')"
   ]
  },
  {
   "cell_type": "code",
   "execution_count": 24,
   "id": "691003eb",
   "metadata": {},
   "outputs": [],
   "source": [
    "# example of function bezier(p,s=10)\n",
    "\n",
    "control_points=pts([[0,0],[10,5],[0,20],[-10,5],[2,10]])\n",
    "curve=bezier(control_points,50)\n",
    "\n",
    "with open('/Users/sanjeevprabhakar/iCloud Drive (Archive)/Documents/Download/openscad/trial.scad','w+')as f:\n",
    "    f.write(f'''\n",
    "include<dependencies2.scad>\n",
    "color(\"blue\")points({curve},.2);\n",
    "// control points\n",
    "color(\"magenta\")points({control_points},.5);\n",
    "color(\"cyan\")p_lineo({control_points},.05);\n",
    "    ''')"
   ]
  },
  {
   "cell_type": "code",
   "execution_count": 2,
   "id": "bd017267",
   "metadata": {},
   "outputs": [],
   "source": [
    "# example of function arc_3d(v=[0,0,1],r=1,theta1=0,theta2=360,cw=-1,s=50)\n",
    "vector=[[0,0,0],[0,0,-10]]\n",
    "arc=arc_3d(v=[0,0,-10],r=3,theta1=0,theta2=90,cw=-1,s=50)\n",
    "\n",
    "with open('/Users/sanjeevprabhakar/iCloud Drive (Archive)/Documents/Download/openscad/trial.scad','w+')as f:\n",
    "    f.write(f'''\n",
    "include<dependencies2.scad>\n",
    "//arc\n",
    "color(\"blue\")p_line3d({arc},.1);\n",
    "// vector\n",
    "color(\"cyan\")p_line3d({vector},.1);\n",
    "\n",
    "    ''')"
   ]
  },
  {
   "cell_type": "code",
   "execution_count": 5,
   "id": "b366a8a6",
   "metadata": {},
   "outputs": [],
   "source": [
    "# example of function plane(nv,radius)\n",
    "\n",
    "vector=[[0,0,0],[0,10,0]]\n",
    "plane1=plane(nv=[0,10,0],radius=50)\n",
    "\n",
    "with open('/Users/sanjeevprabhakar/iCloud Drive (Archive)/Documents/Download/openscad/trial.scad','w+')as f:\n",
    "    f.write(f'''\n",
    "include<dependencies2.scad>\n",
    "\n",
    "//plane\n",
    "%{swp(plane1)}\n",
    "\n",
    "// vector\n",
    "color(\"magenta\")p_line3d({vector},.1);\n",
    "\n",
    "    ''')"
   ]
  },
  {
   "cell_type": "code",
   "execution_count": 27,
   "id": "2fe94d30",
   "metadata": {},
   "outputs": [],
   "source": [
    "#  example of function c_hull(pnt)\n",
    "a=random.random(100)*(20-5)+5\n",
    "b=random.random(100)*(30-10)+10\n",
    "points=array([a,b]).transpose(1,0).tolist()\n",
    "convex_hull=c_hull(points)\n",
    "with open('/Users/sanjeevprabhakar/iCloud Drive (Archive)/Documents/Download/openscad/trial.scad','w+')as f:\n",
    "    f.write(f'''\n",
    "include<dependencies2.scad>\n",
    "\n",
    "points({points},.2);\n",
    "color(\"blue\")p_line({convex_hull},.05);\n",
    "\n",
    "    ''')\n"
   ]
  },
  {
   "cell_type": "code",
   "execution_count": 28,
   "id": "3b4fb850",
   "metadata": {},
   "outputs": [],
   "source": [
    "# example of function convex(sec)\n",
    "sec1=cr_c(pts1([[0,0,.2],[8,3,3],[5,7,1],[-8,0,2],[-5,20,1]]),20)\n",
    "sec2=cr_c(pts1([[0,0,.1],[7,5,2],[5,7,3],[-5,7,5],[-7,5,5]]),20)\n",
    "convex(sec1),convex(sec2)\n",
    "\n",
    "with open('/Users/sanjeevprabhakar/iCloud Drive (Archive)/Documents/Download/openscad/trial.scad','w+')as f:\n",
    "    f.write(f'''\n",
    "include<dependencies2.scad>\n",
    "\n",
    "// not a convex section\n",
    "color(\"blue\")p_line({sec1},.05);\n",
    "\n",
    "//convex section\n",
    "color(\"magenta\")translate([20,0,0])p_line({sec2},.05);\n",
    "\n",
    "    ''')"
   ]
  },
  {
   "cell_type": "code",
   "execution_count": 29,
   "id": "50f5c116",
   "metadata": {},
   "outputs": [],
   "source": [
    "# example of function cir_p_t(cir,pnt)\n",
    "cir=c3t2(trns([20,10,0],circle(10)))\n",
    "point=[3,5]\n",
    "tangent_point=cir_p_t(cir,point)\n",
    "with open('/Users/sanjeevprabhakar/iCloud Drive (Archive)/Documents/Download/openscad/trial.scad','w+')as f:\n",
    "    f.write(f'''\n",
    "include<dependencies2.scad>\n",
    "\n",
    "%p_line({cir},.1);\n",
    "color(\"magenta\")points({[point]},.5);\n",
    "color(\"cyan\")points({[tangent_point]},.5);\n",
    "color(\"blue\")p_line({[point,tangent_point]},.05);\n",
    "    ''')"
   ]
  },
  {
   "cell_type": "code",
   "execution_count": 30,
   "id": "e8446bc0",
   "metadata": {},
   "outputs": [],
   "source": [
    "# example of function concave_hull(pnts,x=1,loops=10)\n",
    "\n",
    "a=random.random(100)*(20-5)+5\n",
    "b=random.random(100)*(30-10)+10\n",
    "points=array([a,b]).transpose(1,0).tolist()\n",
    "conc_hull=concave_hull(points,2,10)\n",
    "with open('/Users/sanjeevprabhakar/iCloud Drive (Archive)/Documents/Download/openscad/trial.scad','w+')as f:\n",
    "    f.write(f'''\n",
    "include<dependencies2.scad>\n",
    "\n",
    "points({points},.2);\n",
    "color(\"blue\")p_line({conc_hull},.05);\n",
    "\n",
    "    ''')\n"
   ]
  },
  {
   "cell_type": "code",
   "execution_count": 31,
   "id": "c9dbf09f",
   "metadata": {},
   "outputs": [],
   "source": [
    "# example of function path_offset(path,d)\n",
    "\n",
    "path=cr(pts1([[-5,0],[5,0,2],[-1,10,2],[-5,0]]))\n",
    "path1=path_offset(path,-1)\n",
    "with open('/Users/sanjeevprabhakar/iCloud Drive (Archive)/Documents/Download/openscad/trial.scad','w+')as f:\n",
    "    f.write(f'''\n",
    "include<dependencies2.scad>\n",
    "// orginal path\n",
    "color(\"blue\")p_lineo({path},.05);\n",
    "//offset path\n",
    "color(\"magenta\")p_lineo({path1},.05);\n",
    "\n",
    "\n",
    "    ''')\n"
   ]
  },
  {
   "cell_type": "code",
   "execution_count": 32,
   "id": "1a11dd1d",
   "metadata": {},
   "outputs": [],
   "source": [
    "# example of function pntsnfaces(bead2)\n",
    "\n",
    "path=cr(pts1([[-5,0],[5,0,2],[-1,10,2],[-5,0]]))\n",
    "path1=path_offset(path,-1)\n",
    "final_path=path+flip(path1)\n",
    "sec=circle(10)\n",
    "sol=prism(sec,final_path)\n",
    "\n",
    "points, faces=pntsnfaces(sol)[0],pntsnfaces(sol)[1]\n",
    "\n",
    "with open('/Users/sanjeevprabhakar/iCloud Drive (Archive)/Documents/Download/openscad/trial.scad','w+')as f:\n",
    "    f.write(f'''\n",
    "include<dependencies2.scad>\n",
    "\n",
    "polyhedron({points},{faces},convexity=10);\n",
    "    ''')\n"
   ]
  },
  {
   "cell_type": "code",
   "execution_count": 33,
   "id": "868702d0",
   "metadata": {},
   "outputs": [
    {
     "data": {
      "text/plain": [
       "0.020718097686767578"
      ]
     },
     "execution_count": 33,
     "metadata": {},
     "output_type": "execute_result"
    }
   ],
   "source": [
    "# example of function offset_points(sec,r)\n",
    "t0=time.time()\n",
    "sec=cr_c(pts1([[0,0,.1],[7,5,2],[5,7,3],[-5,7,5],[-7,5,5]]),20)\n",
    "sec1=offset_points(sec,2)\n",
    "\n",
    "with open('/Users/sanjeevprabhakar/iCloud Drive (Archive)/Documents/Download/openscad/trial.scad','w+')as f:\n",
    "    f.write(f'''\n",
    "include<dependencies2.scad>\n",
    "\n",
    "\n",
    "//original points\n",
    "points({sec},.2);\n",
    "\n",
    "// offset points\n",
    "color(\"blue\") points({sec1},.2);\n",
    "\n",
    "\n",
    "    ''')\n",
    "t1=time.time()\n",
    "t1-t0"
   ]
  },
  {
   "cell_type": "code",
   "execution_count": 34,
   "id": "307df0e0",
   "metadata": {},
   "outputs": [
    {
     "data": {
      "text/plain": [
       "0.011845111846923828"
      ]
     },
     "execution_count": 34,
     "metadata": {},
     "output_type": "execute_result"
    }
   ],
   "source": [
    "# example of function offset_pointsv(sec,r)\n",
    "t0=time.time()\n",
    "sec=cr_c(pts1([[0,0,.1],[7,5,2],[5,7,3],[-5,7,5],[-7,5,5]]),20)\n",
    "sec1=offset_pointsv(sec,2)\n",
    "\n",
    "with open('/Users/sanjeevprabhakar/iCloud Drive (Archive)/Documents/Download/openscad/trial.scad','w+')as f:\n",
    "    f.write(f'''\n",
    "include<dependencies2.scad>\n",
    "\n",
    "\n",
    "//original points\n",
    "points({sec},.2);\n",
    "\n",
    "// offset points\n",
    "color(\"blue\") points({sec1},.2);\n",
    "\n",
    "\n",
    "    ''')\n",
    "t1=time.time()\n",
    "t1-t0\n"
   ]
  },
  {
   "cell_type": "code",
   "execution_count": 35,
   "id": "594dc817",
   "metadata": {},
   "outputs": [
    {
     "data": {
      "text/plain": [
       "0.024523019790649414"
      ]
     },
     "execution_count": 35,
     "metadata": {},
     "output_type": "execute_result"
    }
   ],
   "source": [
    "# example of function convert_secv(sec,d)\n",
    "t0=time.time()\n",
    "sec=cr(pts1([[0,0,.1],[7,5,2],[5,7,3],[-5,7,5],[-7,5,5]]),20)\n",
    "sec1=convert_secv(sec,4)\n",
    "\n",
    "with open('/Users/sanjeevprabhakar/iCloud Drive (Archive)/Documents/Download/openscad/trial.scad','w+')as f:\n",
    "    f.write(f'''\n",
    "include<dependencies2.scad>\n",
    "\n",
    "\n",
    "//original sec\n",
    "p_line({sec},.2);\n",
    "\n",
    "// converted sec\n",
    "color(\"blue\") p_line({sec1},.08);\n",
    "\n",
    "\n",
    "    ''')\n",
    "t1=time.time()\n",
    "t1-t0\n"
   ]
  },
  {
   "cell_type": "code",
   "execution_count": 68,
   "id": "b95c8bfe",
   "metadata": {},
   "outputs": [],
   "source": [
    "set_printoptions(suppress=True)"
   ]
  },
  {
   "cell_type": "code",
   "execution_count": 4,
   "id": "80bc574c",
   "metadata": {},
   "outputs": [
    {
     "data": {
      "text/plain": [
       "0.014697074890136719"
      ]
     },
     "execution_count": 4,
     "metadata": {},
     "output_type": "execute_result"
    }
   ],
   "source": [
    "# example of function s_int(s)\n",
    "t0=time.time()\n",
    "sec=cr(pts1([[0,0,.1],[7,5,2],[-7,10,2]]),3)\n",
    "sec1=offset_segv(sec,-1)\n",
    "self_intersections=s_int(sec1)\n",
    "\n",
    "with open('/Users/sanjeevprabhakar/iCloud Drive (Archive)/Documents/Download/openscad/trial.scad','w+')as f:\n",
    "    f.write(f'''\n",
    "include<dependencies2.scad>\n",
    "\n",
    "// line segments\n",
    "color(\"blue\") for (p={sec1}) p_line(p,.05);\n",
    "\n",
    "// intersection points\n",
    "color(\"magenta\")points({self_intersections},.2);\n",
    "\n",
    "    ''')\n",
    "t1=time.time()\n",
    "t1-t0\n"
   ]
  },
  {
   "cell_type": "code",
   "execution_count": 7,
   "id": "4e322b2d",
   "metadata": {},
   "outputs": [
    {
     "data": {
      "text/plain": [
       "0.11617565155029297"
      ]
     },
     "execution_count": 7,
     "metadata": {},
     "output_type": "execute_result"
    }
   ],
   "source": [
    "# example of function s_int(s)\n",
    "t0=time.time()\n",
    "sec=cr(pts1([[0,0,.2],[8,3,3],[5,7,1],[-8,0,2],[-5,20,1]]),20)\n",
    "sec=seg(sec)\n",
    "s=s_int(sec)\n",
    "\n",
    "with open('/Users/sanjeevprabhakar/iCloud Drive (Archive)/Documents/Download/openscad/trial.scad','w+')as f:\n",
    "    f.write(f'''\n",
    "include<dependencies2.scad>\n",
    "\n",
    "// line segments\n",
    "color(\"blue\") for (p={sec}) p_line(p,.05);\n",
    "\n",
    "// intersection points\n",
    "color(\"magenta\")points({s},.4);\n",
    "\n",
    "    ''')\n",
    "t1=time.time()\n",
    "t1-t0"
   ]
  },
  {
   "cell_type": "code",
   "execution_count": 2,
   "id": "b788a3c9",
   "metadata": {},
   "outputs": [
    {
     "data": {
      "text/plain": [
       "0.0061719417572021484"
      ]
     },
     "execution_count": 2,
     "metadata": {},
     "output_type": "execute_result"
    }
   ],
   "source": [
    "#  example of function s_int1(s)\n",
    "t0=time.time()\n",
    "sec=offset_segv([[0,0],[10,0],[15,7]],-1)\n",
    "self_intersections=s_int1(sec)\n",
    "\n",
    "with open('/Users/sanjeevprabhakar/iCloud Drive (Archive)/Documents/Download/openscad/trial.scad','w+')as f:\n",
    "    f.write(f'''\n",
    "include<dependencies2.scad>\n",
    "\n",
    "// line segments\n",
    "color(\"blue\") for (p={sec}) p_line(p,.05);\n",
    "\n",
    "// intersection points\n",
    "color(\"magenta\")points({self_intersections},.4);\n",
    "\n",
    "    ''')\n",
    "t1=time.time()\n",
    "t1-t0\n"
   ]
  },
  {
   "cell_type": "code",
   "execution_count": 39,
   "id": "1047e17b",
   "metadata": {},
   "outputs": [
    {
     "data": {
      "text/plain": [
       "0.028432130813598633"
      ]
     },
     "execution_count": 39,
     "metadata": {},
     "output_type": "execute_result"
    }
   ],
   "source": [
    "#  example of function offset_seg_cw(sec,r)\n",
    "t0=time.time()\n",
    "sec=sec=cr(pts1([[0,0,.2],[8,3,3],[5,7,1],[-8,0,2],[-5,20,1]]),20)\n",
    "sec1=offset_seg_cw(sec,-2)\n",
    "\n",
    "with open('/Users/sanjeevprabhakar/iCloud Drive (Archive)/Documents/Download/openscad/trial.scad','w+')as f:\n",
    "    f.write(f'''\n",
    "include<dependencies2.scad>\n",
    "\n",
    "// original section\n",
    "color(\"blue\") points({sec},.1);\n",
    "\n",
    "// offset segments\n",
    "color(\"magenta\")points({sec1},.1);\n",
    "\n",
    "    ''')\n",
    "t1=time.time()\n",
    "t1-t0\n"
   ]
  },
  {
   "cell_type": "code",
   "execution_count": 40,
   "id": "beb8c3a5",
   "metadata": {},
   "outputs": [
    {
     "data": {
      "text/plain": [
       "0.009814023971557617"
      ]
     },
     "execution_count": 40,
     "metadata": {},
     "output_type": "execute_result"
    }
   ],
   "source": [
    "#  example of function offset_segv(sec,r)\n",
    "t0=time.time()\n",
    "sec=sec=cr(pts1([[0,0,.2],[8,3,3],[5,7,1],[-8,0,2],[-5,20,1]]),20)\n",
    "sec1=offset_segv(sec,-1)\n",
    "\n",
    "with open('/Users/sanjeevprabhakar/iCloud Drive (Archive)/Documents/Download/openscad/trial.scad','w+')as f:\n",
    "    f.write(f'''\n",
    "include<dependencies2.scad>\n",
    "\n",
    "// original section\n",
    "color(\"blue\") points({sec},.1);\n",
    "\n",
    "// offset segments\n",
    "color(\"magenta\")for(p={sec1})points(p,.1);\n",
    "\n",
    "    ''')\n",
    "t1=time.time()\n",
    "t1-t0"
   ]
  },
  {
   "cell_type": "code",
   "execution_count": 41,
   "id": "6266e0b0",
   "metadata": {},
   "outputs": [
    {
     "data": {
      "text/plain": [
       "0.02308034896850586"
      ]
     },
     "execution_count": 41,
     "metadata": {},
     "output_type": "execute_result"
    }
   ],
   "source": [
    "#  example of another method to offset segment where points are clockwise and example function cwv(sec)\n",
    "t0=time.time()\n",
    "sec=cr(pts1([[0,0,.2],[8,3,3],[5,7,1],[-8,0,2],[-5,20,1]]),20)\n",
    "sec0=seg(sec)\n",
    "decision=cwv(sec)\n",
    "sec1=[path_offset(sec0[i],-2) for i in range(len(sec0)) if decision[i]==1]\n",
    "\n",
    "with open('/Users/sanjeevprabhakar/iCloud Drive (Archive)/Documents/Download/openscad/trial.scad','w+')as f:\n",
    "    f.write(f'''\n",
    "include<dependencies2.scad>\n",
    "\n",
    "// original section\n",
    "color(\"blue\") points({sec},.1);\n",
    "\n",
    "// offset segments\n",
    "color(\"magenta\")for(p={sec1})points(p,.1);\n",
    "\n",
    "    ''')\n",
    "t1=time.time()\n",
    "t1-t0\n"
   ]
  },
  {
   "cell_type": "code",
   "execution_count": 2,
   "id": "d1e192d9",
   "metadata": {},
   "outputs": [
    {
     "data": {
      "text/plain": [
       "0.013442277908325195"
      ]
     },
     "execution_count": 2,
     "metadata": {},
     "output_type": "execute_result"
    }
   ],
   "source": [
    "#  example of function sort_pointsv(sec,sec1)\n",
    "t0=time.time()\n",
    "sec=circle(10)\n",
    "sec1=cr(pts1([[-2.5,-2.5,1],[5,0,1],[0,5,1],[-5,0,1]]))\n",
    "sec2=sort_pointsv(sec,sec1)\n",
    "sec3=cpo([sec2,sec])\n",
    "with open('/Users/sanjeevprabhakar/iCloud Drive (Archive)/Documents/Download/openscad/trial.scad','w+')as f:\n",
    "    f.write(f'''\n",
    "include<dependencies2.scad>\n",
    "\n",
    "p_line({sec},.05);\n",
    "p_line({sec2},.05);\n",
    "color(\"blue\") for(p={sec3})p_line(p,.1);\n",
    "\n",
    "    ''')\n",
    "t1=time.time()\n",
    "t1-t0"
   ]
  },
  {
   "cell_type": "code",
   "execution_count": 6,
   "id": "1439d785",
   "metadata": {},
   "outputs": [
    {
     "data": {
      "text/plain": [
       "0.06561803817749023"
      ]
     },
     "execution_count": 6,
     "metadata": {},
     "output_type": "execute_result"
    }
   ],
   "source": [
    "#  example of function sort_points(sec,sec1)\n",
    "t0=time.time()\n",
    "sec=circle(10)\n",
    "sec1=cr(pts1([[-2.5,-2.5,1],[5,0,1],[0,5,1],[-5,0,1]]))\n",
    "sec2=sort_points(sec,sec1)\n",
    "sec3=cpo([sec2,sec])\n",
    "with open('/Users/sanjeevprabhakar/iCloud Drive (Archive)/Documents/Download/openscad/trial.scad','w+')as f:\n",
    "    f.write(f'''\n",
    "include<dependencies2.scad>\n",
    "\n",
    "p_line({sec},.05);\n",
    "p_line({sec2},.05);\n",
    "color(\"blue\") for(p={sec3})p_line(p,.1);\n",
    "\n",
    "    ''')\n",
    "t1=time.time()\n",
    "t1-t0"
   ]
  },
  {
   "cell_type": "code",
   "execution_count": 44,
   "id": "8a33a584",
   "metadata": {},
   "outputs": [],
   "source": [
    "# example of function surf_offset(surf,o)\n",
    "\n",
    "sec=circle(10);\n",
    "path=cr(pts1([[2,0],[-2,0,2],[0,10,3],[-3,0]]),5)\n",
    "sol=prism(sec,path)\n",
    "sol1=surf_offset(sol,-1)\n",
    "   \n",
    "with open('/Users/sanjeevprabhakar/iCloud Drive (Archive)/Documents/Download/openscad/trial.scad','w+') as f:\n",
    "    f.write(f'''\n",
    "include<dependencies2.scad> \n",
    "%{swp(sol)}\n",
    "{swp(sol1)}\n",
    "    \n",
    "    \n",
    "''') "
   ]
  },
  {
   "cell_type": "code",
   "execution_count": 45,
   "id": "0496bda2",
   "metadata": {},
   "outputs": [],
   "source": [
    "# example of function surf_offset(surf,o)\n",
    "\n",
    "sec=circle(10);\n",
    "path=cr(pts1([[2,0],[-2,0,2],[0,10,3],[-3,0]]),5)\n",
    "sol=prism(sec,path)\n",
    "sol1=surf_offset(sol,-1)\n",
    "   \n",
    "with open('/Users/sanjeevprabhakar/iCloud Drive (Archive)/Documents/Download/openscad/trial.scad','w+') as f:\n",
    "    f.write(f'''\n",
    "include<dependencies2.scad> \n",
    "%{swp(sol)}\n",
    "{swp(sol1)}\n",
    "    \n",
    "    \n",
    "''') "
   ]
  },
  {
   "cell_type": "code",
   "execution_count": 46,
   "id": "05645002",
   "metadata": {},
   "outputs": [],
   "source": [
    "# example of function pts1(p)\n",
    "\n",
    "sec=cr(pts1([[0,0,1],[10,0,1],[0,5,1],[-10,0,1]]),5)\n",
    "   \n",
    "with open('/Users/sanjeevprabhakar/iCloud Drive (Archive)/Documents/Download/openscad/trial.scad','w+') as f:\n",
    "    f.write(f'''\n",
    "include<dependencies2.scad> \n",
    "color(\"blue\")p_line({sec},.05);\n",
    "    \n",
    "    \n",
    "''') "
   ]
  },
  {
   "cell_type": "code",
   "execution_count": 47,
   "id": "0390dcaa",
   "metadata": {},
   "outputs": [],
   "source": [
    "# example of function m_points(sec,sl=20)\n",
    "\n",
    "sec=cr(pts1([[0,0,1],[10,0,1],[0,5,1],[-10,0,1]]),5)\n",
    "sec1=m_points(sec,1)\n",
    "   \n",
    "with open('/Users/sanjeevprabhakar/iCloud Drive (Archive)/Documents/Download/openscad/trial.scad','w+') as f:\n",
    "    f.write(f'''\n",
    "include<dependencies2.scad>\n",
    "\n",
    "// original closed section 'sec'\n",
    "color(\"blue\")points({sec},.2);\n",
    "\n",
    "// points at every 1 mm distance in each straight line segment of 'sec'\n",
    "color(\"magenta\")translate([0,10,0])points({sec1},.2);\n",
    "    \n",
    "''') "
   ]
  },
  {
   "cell_type": "code",
   "execution_count": 48,
   "id": "d4a7d10d",
   "metadata": {},
   "outputs": [],
   "source": [
    "# example of function m_points_o(sec,sl=20)\n",
    "\n",
    "sec=cr(pts1([[0,0,1],[10,0,1],[0,5,1],[-10,0,1]]),5)\n",
    "sec1=m_points_o(sec,1)\n",
    "   \n",
    "with open('/Users/sanjeevprabhakar/iCloud Drive (Archive)/Documents/Download/openscad/trial.scad','w+') as f:\n",
    "    f.write(f'''\n",
    "include<dependencies2.scad>\n",
    "\n",
    "// original closed section 'sec'\n",
    "color(\"blue\")\n",
    "{{points({sec},.2);\n",
    "p_lineo({sec},.05);}}\n",
    "\n",
    "// points at every 1 mm distance in each straight line segment of 'sec'\n",
    "color(\"magenta\")\n",
    "{{translate([0,10,0])points({sec1},.2);\n",
    "translate([0,10,0]) p_lineo({sec1},.05);}}\n",
    "    \n",
    "''') "
   ]
  },
  {
   "cell_type": "code",
   "execution_count": 49,
   "id": "71684b23",
   "metadata": {},
   "outputs": [],
   "source": [
    "# example of function arc_2p(p1,p2,r,cw=1,s=20)\n",
    "\n",
    "p1=[2,0]\n",
    "p2=[0,2]\n",
    "arc=arc_2p(p1,p2,2,1,5)\n",
    "\n",
    "arc1=arc_2p(p1,p2,2,-1,5)\n",
    "\n",
    "   \n",
    "with open('/Users/sanjeevprabhakar/iCloud Drive (Archive)/Documents/Download/openscad/trial.scad','w+') as f:\n",
    "    f.write(f'''\n",
    "include<dependencies2.scad>\n",
    "\n",
    "// arc clockwise\n",
    "color(\"blue\")\n",
    "points({arc},.2);\n",
    "\n",
    "// arc counter clockwise\n",
    "color(\"magenta\")\n",
    "points({arc1},.2);\n",
    "\n",
    "    \n",
    "''') "
   ]
  },
  {
   "cell_type": "code",
   "execution_count": 50,
   "id": "a4ba0c68",
   "metadata": {},
   "outputs": [],
   "source": [
    "# example of function arc_long_2p(p1,p2,r,cw=1,s=20)\n",
    "\n",
    "p1=[2,0]\n",
    "p2=[0,2]\n",
    "arc=arc_long_2p(p1,p2,2,1,20)\n",
    "\n",
    "arc1=arc_long_2p(p1,p2,2,-1,20)\n",
    "\n",
    "   \n",
    "with open('/Users/sanjeevprabhakar/iCloud Drive (Archive)/Documents/Download/openscad/trial.scad','w+') as f:\n",
    "    f.write(f'''\n",
    "include<dependencies2.scad>\n",
    "\n",
    "// arc clockwise\n",
    "color(\"blue\")\n",
    "p_lineo({arc},.05);\n",
    "\n",
    "// arc counter clockwise\n",
    "color(\"magenta\")\n",
    "p_lineo({arc1},.05);\n",
    "\n",
    "    \n",
    "''') "
   ]
  },
  {
   "cell_type": "code",
   "execution_count": 51,
   "id": "ded165a5",
   "metadata": {},
   "outputs": [],
   "source": [
    "# example of function arc_2p_cp(p1,p2,r,cw=-1)\n",
    "\n",
    "p1=[2,0]\n",
    "p2=[0,2]\n",
    "arc=arc_2p(p1,p2,2,1,5)\n",
    "cp1=arc_2p_cp(p1,p2,2,1)\n",
    "\n",
    "arc1=arc_2p(p1,p2,2,-1,5)\n",
    "cp2=arc_2p_cp(p1,p2,2,-1)\n",
    "\n",
    "   \n",
    "with open('/Users/sanjeevprabhakar/iCloud Drive (Archive)/Documents/Download/openscad/trial.scad','w+') as f:\n",
    "    f.write(f'''\n",
    "include<dependencies2.scad>\n",
    "\n",
    "// arc clockwise with center point of the arc\n",
    "color(\"blue\")\n",
    "{{p_lineo({arc},.05);\n",
    "points({[cp1]},.2);}}\n",
    "\n",
    "// arc counter clockwise with center point of the arc\n",
    "color(\"magenta\")\n",
    "{{p_lineo({arc1},.05);\n",
    "points({[cp2]},.2);}}\n",
    "    \n",
    "''') "
   ]
  },
  {
   "cell_type": "code",
   "execution_count": 53,
   "id": "7e40af81",
   "metadata": {
    "scrolled": true
   },
   "outputs": [],
   "source": [
    "# example of function offset(sec,r)\n",
    "\n",
    "sec=cr(pts1([[0,0,1],[10,0,1],[0,5,1],[-10,0,1]]),10)\n",
    "sec1=offset(sec,-2)\n",
    "\n",
    "   \n",
    "with open('/Users/sanjeevprabhakar/iCloud Drive (Archive)/Documents/Download/openscad/trial.scad','w+') as f:\n",
    "    f.write(f'''\n",
    "include<dependencies2.scad> \n",
    "p_line({sec},.1);\n",
    "p_line({sec1},.1);\n",
    "  \n",
    "''') "
   ]
  },
  {
   "cell_type": "code",
   "execution_count": 54,
   "id": "6fc482a1",
   "metadata": {},
   "outputs": [],
   "source": [
    "# example of function prism(sec,path)\n",
    "\n",
    "sec=cr(pts1([[0,0,.2],[8,3,3],[5,7,1],[-8,0,2],[-5,20,1]]),20)\n",
    "# sec=cr(pts1([[0,0,.1],[7,5,2],[5,7,3],[-5,7,5],[-7,5,5]]),20)\n",
    "# sec=cr(pts1([[-15,0,2.4],[0,15,3],[30,0,3],[0,-15,2.4],[5,0,2.4],[0,20,7],[-40,0,7],[0,-20,2.4]]),20)\n",
    "\n",
    "path=cr(pts1([[2,0],[-2,0,2],[0,7,4.2],[-4.2,0]]),40)\n",
    "# path=cr(pts1([[2,0],[-2,0,2],[0,7,5.3],[-5.3,0]]),40)\n",
    "# path=cr(pts1([[2,0],[-2,0,2],[0,7,2],[-2,0]]),20)\n",
    "\n",
    "\n",
    "sol=prism(sec,path)\n",
    "\n",
    "with open('/Users/sanjeevprabhakar/iCloud Drive (Archive)/Documents/Download/openscad/trial.scad','w+') as f:\n",
    "    f.write(f'''\n",
    "include<dependencies2.scad> \n",
    "{swp(sol)}\n",
    "  \n",
    "''') "
   ]
  },
  {
   "cell_type": "code",
   "execution_count": 55,
   "id": "6c90f63e",
   "metadata": {},
   "outputs": [],
   "source": [
    "# example of function p_cir_t(pnt,cir)\n",
    "cir=c3t2(trns([20,10,0],circle(10)))\n",
    "point=[3,5]\n",
    "tangent_point=p_cir_t(point,cir)\n",
    "with open('/Users/sanjeevprabhakar/iCloud Drive (Archive)/Documents/Download/openscad/trial.scad','w+')as f:\n",
    "    f.write(f'''\n",
    "include<dependencies2.scad>\n",
    "\n",
    "%p_line({cir},.1);\n",
    "color(\"magenta\")points({[point]},.5);\n",
    "color(\"cyan\")points({[tangent_point]},.5);\n",
    "color(\"blue\")p_line({[point,tangent_point]},.05);\n",
    "    ''')\n"
   ]
  },
  {
   "cell_type": "code",
   "execution_count": 56,
   "id": "38f406c1",
   "metadata": {},
   "outputs": [],
   "source": [
    "# example of function v_sec_extrude(sec,path,o)\n",
    "sec=cr(pts1([[0,0,1],[10,0,1],[0,5,1],[-10,0,1]]),10)\n",
    "path=helix(20,15,1,5)\n",
    "sol=v_sec_extrude(sec,path,-2)\n",
    "with open('/Users/sanjeevprabhakar/iCloud Drive (Archive)/Documents/Download/openscad/trial.scad','w+')as f:\n",
    "    f.write(f'''\n",
    "include<dependencies2.scad>\n",
    "\n",
    "{swp(sol)}\n",
    "    ''')\n"
   ]
  },
  {
   "cell_type": "code",
   "execution_count": 66,
   "id": "ace40380",
   "metadata": {},
   "outputs": [],
   "source": [
    "# example of function t_cir_tarc(r1,r2,cp1,cp2,r,s=50)\n",
    "\n",
    "r=(10+5+linalg.norm([5,4]))/2+.1\n",
    "arc=t_cir_tarc(10,5,[0,0],[5,-4],r,20)\n",
    "c1=circle(10)\n",
    "c2=circle(5,[5,-4])\n",
    "with open('/Users/sanjeevprabhakar/iCloud Drive (Archive)/Documents/Download/openscad/trial.scad','w+')as f:\n",
    "    f.write(f'''\n",
    "include<dependencies2.scad>\n",
    "\n",
    "%p_line({c1},.05);\n",
    "%p_line({c2},.05);\n",
    "color(\"blue\") p_lineo({arc},.05);\n",
    "\n",
    "\n",
    "\n",
    "    ''')"
   ]
  },
  {
   "cell_type": "code",
   "execution_count": 73,
   "id": "d572975c",
   "metadata": {},
   "outputs": [],
   "source": [
    "# example of function tcct(r1,r2,cp1,cp2,cw=-1)\n",
    "c1=circle(10)\n",
    "c2=circle(5,[15,-8])\n",
    "\n",
    "line= tcct(10,5,[0,0],[15,-8],cw=-1)\n",
    "\n",
    "with open('/Users/sanjeevprabhakar/iCloud Drive (Archive)/Documents/Download/openscad/trial.scad','w+')as f:\n",
    "    f.write(f'''\n",
    "include<dependencies2.scad>\n",
    "\n",
    "%p_line({c1},.05);\n",
    "%p_line({c2},.05);\n",
    "color(\"blue\") p_lineo({line},.05);\n",
    "\n",
    "\n",
    "\n",
    "    ''')\n"
   ]
  },
  {
   "cell_type": "code",
   "execution_count": 76,
   "id": "2e27e89b",
   "metadata": {},
   "outputs": [],
   "source": [
    "# example of function arc_3p(p1,p2,p3,s=30)\n",
    "\n",
    "p1,p2,p3=[3,0],[0,0],[0,3]\n",
    "arc=arc_3p(p1,p2,p3)\n",
    "with open('/Users/sanjeevprabhakar/iCloud Drive (Archive)/Documents/Download/openscad/trial.scad','w+')as f:\n",
    "    f.write(f'''\n",
    "include<dependencies2.scad>\n",
    "\n",
    "\n",
    "color(\"blue\") p_lineo({arc},.05);\n",
    "points({[p1,p2,p3]},.2);\n",
    "    ''')\n"
   ]
  },
  {
   "cell_type": "code",
   "execution_count": 79,
   "id": "1f68d6c3",
   "metadata": {},
   "outputs": [],
   "source": [
    "# example of function cir_3p(p1,p2,p3,s=30)\n",
    "\n",
    "p1,p2,p3=[3,0],[0,0],[0,3]\n",
    "circle=cir_3p(p1,p2,p3,30)\n",
    "with open('/Users/sanjeevprabhakar/iCloud Drive (Archive)/Documents/Download/openscad/trial.scad','w+')as f:\n",
    "    f.write(f'''\n",
    "include<dependencies2.scad>\n",
    "\n",
    "\n",
    "color(\"blue\") p_line({circle},.05);\n",
    "points({[p1,p2,p3]},.2);\n",
    "    ''')\n"
   ]
  },
  {
   "cell_type": "code",
   "execution_count": 80,
   "id": "e8d299e6",
   "metadata": {},
   "outputs": [],
   "source": [
    "# example of function cp_3p(p1,p2,p3)\n",
    "\n",
    "p1,p2,p3=[3,0],[0,0],[0,3]\n",
    "circle=cir_3p(p1,p2,p3,30)\n",
    "center= cp_3p(p1,p2,p3)\n",
    "with open('/Users/sanjeevprabhakar/iCloud Drive (Archive)/Documents/Download/openscad/trial.scad','w+')as f:\n",
    "    f.write(f'''\n",
    "include<dependencies2.scad>\n",
    "\n",
    "\n",
    "color(\"blue\") p_line({circle},.05);\n",
    "points({[p1,p2,p3]},.2);\n",
    "color(\"magenta\")points({[center]},.2);\n",
    "    ''')\n"
   ]
  },
  {
   "cell_type": "code",
   "execution_count": 83,
   "id": "9291cd17",
   "metadata": {},
   "outputs": [],
   "source": [
    "# example of function pies1(sec,pnts)\n",
    "a=random.random(1000)*(20-(-5))+(-5)\n",
    "b=random.random(1000)*(25-(-2))+(-2)\n",
    "points=array([a,b]).transpose(1,0).tolist()\n",
    "sec=cr(pts1([[0,0,.1],[7,5,2],[5,7,3],[-5,7,5],[-7,5,5]]),20)\n",
    "\n",
    "with open('/Users/sanjeevprabhakar/iCloud Drive (Archive)/Documents/Download/openscad/trial.scad','w+')as f:\n",
    "    f.write(f'''\n",
    "include<dependencies2.scad>\n",
    "\n",
    "\n",
    "color(\"blue\") p_line({sec},.05);\n",
    "points({points},.2);\n",
    "color(\"magenta\")points({pies(sec,points)},.2);\n",
    "    ''')"
   ]
  },
  {
   "cell_type": "code",
   "execution_count": 3,
   "id": "32152747",
   "metadata": {},
   "outputs": [],
   "source": [
    "# example of function swp_prism_h(prism_big,prism_small)\n",
    "\n",
    "sec=circle(10)\n",
    "path=cr(pts1([[2,0],[-2,0,2],[0,10,3],[-3,0]]),5)\n",
    "sol=prism(sec,path)\n",
    "sol1=surf_offset(sol,-1)\n",
    "sol2=swp_prism_h(sol,sol1)\n",
    "   \n",
    "with open('/Users/sanjeevprabhakar/iCloud Drive (Archive)/Documents/Download/openscad/trial.scad','w+') as f:\n",
    "    f.write(f'''\n",
    "include<dependencies2.scad> \n",
    "\n",
    "{swp_c(sol2)}\n",
    "    \n",
    "    \n",
    "''') "
   ]
  },
  {
   "cell_type": "code",
   "execution_count": 8,
   "id": "5d78f816",
   "metadata": {},
   "outputs": [
    {
     "data": {
      "text/plain": [
       "1.1050670146942139"
      ]
     },
     "execution_count": 8,
     "metadata": {},
     "output_type": "execute_result"
    }
   ],
   "source": [
    "# example of surf_base(surf,h)\n",
    "t0=time.time()\n",
    "\n",
    "sec2=cr(pts1([[-25,0],[10,5,5],[10,-3,10],[10,5,5],[10,-8,7],[10,1]]),10)  \n",
    "path2=cytz(cr(pts1([[-35,5,0],[10,8,20],[20,-5,10],[20,8,20],[10,-9,20],[10,1,0]]),10))\n",
    "surf2=surf_extrude(sec2,path2)\n",
    "sol=surf_base(surf2,0)\n",
    "with open('/Users/sanjeevprabhakar/iCloud Drive (Archive)/Documents/Download/openscad/trial.scad','w+') as f:\n",
    "    f.write(f'''\n",
    "include<dependencies2.scad> \n",
    "\n",
    "{swp(sol)}\n",
    "\n",
    "''') \n",
    "t1=time.time()\n",
    "total=t1-t0\n",
    "total"
   ]
  },
  {
   "cell_type": "code",
   "execution_count": 7,
   "id": "e524339d",
   "metadata": {},
   "outputs": [],
   "source": [
    "# example of function helix(radius=10,pitch=10, number_of_coils=1, step_angle=1)\n",
    "\n",
    "path=helix(10,5,10,5)\n",
    "\n",
    "with open('/Users/sanjeevprabhakar/iCloud Drive (Archive)/Documents/Download/openscad/trial.scad','w+')as f:\n",
    "    f.write(f'''\n",
    "include<dependencies2.scad>\n",
    "p_line3d({path},1,$fn=20);\n",
    "    ''')"
   ]
  },
  {
   "cell_type": "code",
   "execution_count": 9,
   "id": "62f4a9f4",
   "metadata": {},
   "outputs": [],
   "source": [
    "# example of function offset_points_cw(sec,r)\n",
    "\n",
    "sec=cr(pts1([[0,0,.2],[8,3,3],[5,7,1],[-8,0,2],[-5,20,1]]),20)\n",
    "# sec=cr(pts1([[0,0,.1],[7,5,2],[5,7,3],[-5,7,5],[-7,5,5]]),20)\n",
    "# sec=cr(pts1([[-15,0,2.4],[0,15,3],[30,0,3],[0,-15,2.4],[5,0,2.4],[0,20,7],[-40,0,7],[0,-20,2.4]]),20)\n",
    "\n",
    "# path=cr(pts1([[2,0],[-2,0,2],[0,7,4.2],[-4.2,0]]),40)\n",
    "# path=cr(pts1([[2,0],[-2,0,2],[0,7,5.3],[-5.3,0]]),40)\n",
    "# path=cr(pts1([[2,0],[-2,0,2],[0,7,2],[-2,0]]),20)\n",
    "\n",
    "\n",
    "offsetPoints=offset_points_cw(sec,-2)\n",
    "\n",
    "with open('/Users/sanjeevprabhakar/iCloud Drive (Archive)/Documents/Download/openscad/trial.scad','w+') as f:\n",
    "    f.write(f'''\n",
    "include<dependencies2.scad> \n",
    "color(\"blue\")points({sec},.2);\n",
    "color(\"magenta\")points({offsetPoints},.2);\n",
    "  \n",
    "''') "
   ]
  },
  {
   "cell_type": "code",
   "execution_count": 11,
   "id": "920da735",
   "metadata": {},
   "outputs": [],
   "source": [
    "# example of function offset_points_ccw(sec,r)\n",
    "\n",
    "sec=cr(pts1([[0,0,.2],[8,3,3],[5,7,1],[-8,0,2],[-5,20,1]]),20)\n",
    "# sec=cr(pts1([[0,0,.1],[7,5,2],[5,7,3],[-5,7,5],[-7,5,5]]),20)\n",
    "# sec=cr(pts1([[-15,0,2.4],[0,15,3],[30,0,3],[0,-15,2.4],[5,0,2.4],[0,20,7],[-40,0,7],[0,-20,2.4]]),20)\n",
    "\n",
    "# path=cr(pts1([[2,0],[-2,0,2],[0,7,4.2],[-4.2,0]]),40)\n",
    "# path=cr(pts1([[2,0],[-2,0,2],[0,7,5.3],[-5.3,0]]),40)\n",
    "# path=cr(pts1([[2,0],[-2,0,2],[0,7,2],[-2,0]]),20)\n",
    "\n",
    "\n",
    "offsetPoints=offset_points_ccw(sec,2)\n",
    "\n",
    "with open('/Users/sanjeevprabhakar/iCloud Drive (Archive)/Documents/Download/openscad/trial.scad','w+') as f:\n",
    "    f.write(f'''\n",
    "include<dependencies2.scad> \n",
    "color(\"blue\")points({sec},.2);\n",
    "color(\"magenta\")points({offsetPoints},.2);\n",
    "  \n",
    "''') "
   ]
  },
  {
   "cell_type": "code",
   "execution_count": 18,
   "id": "aac684df",
   "metadata": {},
   "outputs": [],
   "source": [
    "# example of function cpo(prism)\n",
    "\n",
    "sec=cr(pts1([[0,0,.2],[8,3,3],[5,7,1],[-8,0,2],[-5,20,1]]),20)\n",
    "# sec=cr(pts1([[0,0,.1],[7,5,2],[5,7,3],[-5,7,5],[-7,5,5]]),20)\n",
    "# sec=cr(pts1([[-15,0,2.4],[0,15,3],[30,0,3],[0,-15,2.4],[5,0,2.4],[0,20,7],[-40,0,7],[0,-20,2.4]]),20)\n",
    "\n",
    "path=cr(pts1([[2,0],[-2,0,2],[0,7,4.2],[-4.2,0]]),20)\n",
    "# path=cr(pts1([[2,0],[-2,0,2],[0,7,5.3],[-5.3,0]]),40)\n",
    "# path=cr(pts1([[2,0],[-2,0,2],[0,7,2],[-2,0]]),20)\n",
    "\n",
    "sp1=trns([0,50,0],sphere(10))\n",
    "sp2=trns([30,0,0],cpo(sp1))\n",
    "\n",
    "\n",
    "sol=prism(sec,path)\n",
    "sol1=trns([20,0,0],cpo(sol))\n",
    "\n",
    "with open('/Users/sanjeevprabhakar/iCloud Drive (Archive)/Documents/Download/openscad/trial.scad','w+') as f:\n",
    "    f.write(f'''\n",
    "include<dependencies2.scad> \n",
    "\n",
    "color(\"blue\")for(p={sol})p_line3dc(p,.05);\n",
    "color(\"magenta\")for(p={sol1})p_line3d(p,.05);\n",
    "\n",
    "color(\"blue\")for(p={sp1})p_line3dc(p,.05);\n",
    "color(\"magenta\")for(p={sp2})p_line3d(p,.05);\n",
    "\n",
    "''') "
   ]
  },
  {
   "cell_type": "code",
   "execution_count": 22,
   "id": "1aab63c0",
   "metadata": {},
   "outputs": [],
   "source": [
    "# example of function fillet_3p_3d(p0,p1,p2,r,s)\n",
    "\n",
    "p1,p2,p3=[[3,0,0],[0,0,0],[0,3,3]]\n",
    "fillet=fillet_3p_3d(p1,p2,p3,3,10)\n",
    "\n",
    "with open('/Users/sanjeevprabhakar/iCloud Drive (Archive)/Documents/Download/openscad/trial.scad','w+') as f:\n",
    "    f.write(f'''\n",
    "include<dependencies2.scad> \n",
    "\n",
    "color(\"blue\")p_line3dc({fillet},.05);\n",
    "\n",
    "\n",
    "''') "
   ]
  },
  {
   "cell_type": "code",
   "execution_count": 23,
   "id": "0fb874ee",
   "metadata": {},
   "outputs": [],
   "source": [
    "# example of function fillet_3p_3d_cp(p0,p1,p2,r)\n",
    "\n",
    "p1,p2,p3=[[3,0,0],[0,0,0],[0,3,3]]\n",
    "fillet=fillet_3p_3d(p1,p2,p3,3,10)\n",
    "centerPoint=fillet_3p_3d_cp(p1,p2,p3,3)\n",
    "\n",
    "\n",
    "with open('/Users/sanjeevprabhakar/iCloud Drive (Archive)/Documents/Download/openscad/trial.scad','w+') as f:\n",
    "    f.write(f'''\n",
    "include<dependencies2.scad> \n",
    "\n",
    "color(\"blue\")p_line3dc({fillet},.05);\n",
    "color(\"magenta\")points({[centerPoint]},.2);\n",
    "\n",
    "\n",
    "''') "
   ]
  },
  {
   "cell_type": "code",
   "execution_count": 27,
   "id": "1d3d1995",
   "metadata": {},
   "outputs": [],
   "source": [
    "# example of function arc_3p_3d(points,s)\n",
    "\n",
    "p1,p2,p3=[[3,0,0],[0,0,0],[0,3,2]]\n",
    "arc=arc_3p_3d([p1,p2,p3],10)\n",
    "\n",
    "\n",
    "\n",
    "with open('/Users/sanjeevprabhakar/iCloud Drive (Archive)/Documents/Download/openscad/trial.scad','w+') as f:\n",
    "    f.write(f'''\n",
    "include<dependencies2.scad> \n",
    "\n",
    "color(\"magenta\")p_line3d({arc},.05);\n",
    "color(\"blue\")points({[p1,p2,p3]},.2);\n",
    "\n",
    "\n",
    "''') "
   ]
  },
  {
   "cell_type": "code",
   "execution_count": 30,
   "id": "1fd154a3",
   "metadata": {},
   "outputs": [],
   "source": [
    "# example of function cir_3p_3d(points,s)\n",
    "\n",
    "p1,p2,p3=[[3,0,0],[0,0,0],[0,3,2]]\n",
    "circle=cir_3p_3d([p1,p2,p3],50)\n",
    "\n",
    "\n",
    "\n",
    "with open('/Users/sanjeevprabhakar/iCloud Drive (Archive)/Documents/Download/openscad/trial.scad','w+') as f:\n",
    "    f.write(f'''\n",
    "include<dependencies2.scad> \n",
    "\n",
    "color(\"magenta\")p_line3dc({circle},.05);\n",
    "color(\"blue\")points({[p1,p2,p3]},.2);\n",
    "\n",
    "\n",
    "''') "
   ]
  },
  {
   "cell_type": "code",
   "execution_count": 31,
   "id": "4fc13b17",
   "metadata": {},
   "outputs": [],
   "source": [
    "# example of function m_points1(sec,sl=20)\n",
    "\n",
    "sec=cr(pts1([[0,0,1],[10,0,1],[0,5,1],[-10,0,1]]),5)\n",
    "sec1=m_points1(sec,5)\n",
    "   \n",
    "with open('/Users/sanjeevprabhakar/iCloud Drive (Archive)/Documents/Download/openscad/trial.scad','w+') as f:\n",
    "    f.write(f'''\n",
    "include<dependencies2.scad>\n",
    "\n",
    "// original closed section 'sec'\n",
    "color(\"blue\")points({sec},.2);\n",
    "\n",
    "// 5 points in each straight line segment of 'sec'\n",
    "color(\"magenta\")translate([0,10,0])points({sec1},.2);\n",
    "    \n",
    "''') "
   ]
  },
  {
   "cell_type": "code",
   "execution_count": 39,
   "id": "69b9e3ce",
   "metadata": {},
   "outputs": [],
   "source": [
    "# example of function l_extrude(sec,h=1,a=0,steps=1)\n",
    "\n",
    "sec=cr(pts1([[0,0,1],[10,0,1],[0,5,1],[-10,0,1]]),5)\n",
    "sol=l_extrude(sec,50,360,50)\n",
    "   \n",
    "with open('/Users/sanjeevprabhakar/iCloud Drive (Archive)/Documents/Download/openscad/trial.scad','w+') as f:\n",
    "    f.write(f'''\n",
    "include<dependencies2.scad>\n",
    "\n",
    "color(\"magenta\") for(p={sol})p_line3dc(p,.05);\n",
    "%{swp(sol)}\n",
    "    \n",
    "''') "
   ]
  },
  {
   "cell_type": "code",
   "execution_count": 41,
   "id": "031d1207",
   "metadata": {},
   "outputs": [],
   "source": [
    "# example of function rsz3d(prism,rsz)\n",
    "\n",
    "sec=cr(pts1([[0,0,1],[10,0,1],[0,5,1],[-10,0,1]]),5)\n",
    "sol=trns([-5,0,0],l_extrude(sec,10))\n",
    "sol1=rsz3d(sol,[5,6,7])\n",
    "   \n",
    "with open('/Users/sanjeevprabhakar/iCloud Drive (Archive)/Documents/Download/openscad/trial.scad','w+') as f:\n",
    "    f.write(f'''\n",
    "include<dependencies2.scad>\n",
    "\n",
    "%{swp(sol)}\n",
    "{swp(sol1)}\n",
    "    \n",
    "''') "
   ]
  },
  {
   "cell_type": "code",
   "execution_count": 42,
   "id": "17ce3180",
   "metadata": {},
   "outputs": [],
   "source": [
    "# example of function rsz3dc(prism,rsz)\n",
    "\n",
    "sec=cr(pts1([[0,0,1],[10,0,1],[0,5,1],[-10,0,1]]),5)\n",
    "sol=trns([-5,0,0],l_extrude(sec,10))\n",
    "sol1=rsz3dc(sol,[5,6,7])\n",
    "   \n",
    "with open('/Users/sanjeevprabhakar/iCloud Drive (Archive)/Documents/Download/openscad/trial.scad','w+') as f:\n",
    "    f.write(f'''\n",
    "include<dependencies2.scad>\n",
    "\n",
    "%{swp(sol)}\n",
    "{swp(sol1)}\n",
    "    \n",
    "''') "
   ]
  },
  {
   "cell_type": "code",
   "execution_count": 46,
   "id": "8d33364b",
   "metadata": {},
   "outputs": [
    {
     "data": {
      "text/plain": [
       "[10.0, 5.0, 10.0]"
      ]
     },
     "execution_count": 46,
     "metadata": {},
     "output_type": "execute_result"
    }
   ],
   "source": [
    "# example of function bb(prism)\n",
    "\n",
    "sec=cr(pts1([[0,0,1],[10,0,1],[0,5,1],[-10,0,1]]),5)\n",
    "sol=trns([-5,0,0],l_extrude(sec,10))\n",
    "dim=bb(sol)\n",
    "sol1=rsz3dc(sol,array(dim)-[1,1,1])\n",
    "   \n",
    "with open('/Users/sanjeevprabhakar/iCloud Drive (Archive)/Documents/Download/openscad/trial.scad','w+') as f:\n",
    "    f.write(f'''\n",
    "include<dependencies2.scad>\n",
    "\n",
    "%{swp(sol)}\n",
    "{swp(sol1)}\n",
    "    \n",
    "''') \n",
    "dim"
   ]
  },
  {
   "cell_type": "code",
   "execution_count": 49,
   "id": "c85cc99d",
   "metadata": {},
   "outputs": [],
   "source": [
    "# example of function cube(s,center=False)\n",
    "\n",
    "sol=cube([5,4,7],False)\n",
    "   \n",
    "with open('/Users/sanjeevprabhakar/iCloud Drive (Archive)/Documents/Download/openscad/trial.scad','w+') as f:\n",
    "    f.write(f'''\n",
    "include<dependencies2.scad>\n",
    "\n",
    "{swp(sol)}\n",
    "    \n",
    "''') "
   ]
  },
  {
   "cell_type": "code",
   "execution_count": 50,
   "id": "07b54379",
   "metadata": {},
   "outputs": [],
   "source": [
    "# example of function sphere(r=0,cp=[0,0,0],s=50)\n",
    "\n",
    "sol=sphere(10)\n",
    "   \n",
    "with open('/Users/sanjeevprabhakar/iCloud Drive (Archive)/Documents/Download/openscad/trial.scad','w+') as f:\n",
    "    f.write(f'''\n",
    "include<dependencies2.scad>\n",
    "\n",
    "{swp(sol)}\n",
    "    \n",
    "''') "
   ]
  },
  {
   "cell_type": "code",
   "execution_count": 51,
   "id": "870a406d",
   "metadata": {},
   "outputs": [],
   "source": [
    "# example of function rsz2d(sec,rsz)\n",
    "\n",
    "sec=cr([[0,0,.5],[10,0,2],[7,15,1]],5)\n",
    "sec1=rsz2d(sec,[4,3])\n",
    "with open('/Users/sanjeevprabhakar/iCloud Drive (Archive)/Documents/Download/openscad/trial.scad','w+') as f:\n",
    "    f.write(f'''\n",
    "include<dependencies2.scad> \n",
    "color(\"blue\")p_line({sec},.1); \n",
    "color(\"magenta\")p_line({sec1},.1);\n",
    "    \n",
    "    \n",
    "''') "
   ]
  },
  {
   "cell_type": "code",
   "execution_count": 52,
   "id": "2c02fa39",
   "metadata": {},
   "outputs": [],
   "source": [
    "# example of function rsz2dc(sec,rsz)\n",
    "\n",
    "sec=cr([[0,0,.5],[10,0,2],[7,15,1]],5)\n",
    "sec1=rsz2dc(sec,[4,3])\n",
    "with open('/Users/sanjeevprabhakar/iCloud Drive (Archive)/Documents/Download/openscad/trial.scad','w+') as f:\n",
    "    f.write(f'''\n",
    "include<dependencies2.scad> \n",
    "color(\"blue\")p_line({sec},.1); \n",
    "color(\"magenta\")p_line({sec1},.1);\n",
    "    \n",
    "    \n",
    "''') "
   ]
  }
 ],
 "metadata": {
  "kernelspec": {
   "display_name": "Python 3 (ipykernel)",
   "language": "python",
   "name": "python3"
  },
  "language_info": {
   "codemirror_mode": {
    "name": "ipython",
    "version": 3
   },
   "file_extension": ".py",
   "mimetype": "text/x-python",
   "name": "python",
   "nbconvert_exporter": "python",
   "pygments_lexer": "ipython3",
   "version": "3.8.10"
  }
 },
 "nbformat": 4,
 "nbformat_minor": 5
}
