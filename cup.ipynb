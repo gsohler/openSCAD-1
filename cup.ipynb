{
 "cells": [
  {
   "cell_type": "code",
   "execution_count": 1,
   "id": "fc5e71f1",
   "metadata": {},
   "outputs": [
    {
     "data": {
      "text/plain": [
       "13.116080045700073"
      ]
     },
     "execution_count": 1,
     "metadata": {},
     "output_type": "execute_result"
    }
   ],
   "source": [
    "from openscad1 import *\n",
    "t0=time.time()\n",
    "\n",
    "cir=circle(11,s=100)\n",
    "path=cr([[-10,0,0],[0,0,3]]+c2t3(arc_2p([0,0],[5,21],40,-1,20)[1:-1])+[[5,21,1],[-10,21,0]],10)\n",
    "sec=m_points(cr(pts1([[0,-2],[1,0,1],[0,4,1],[-2,0,1],[0,-4,1]]),10),.25)\n",
    "path1=c2t3(cr(pts1([[0,0],[11,5,10],[0,10,5],[-10,-2]]),20))\n",
    "path2=c2t3(pts1([[0,0],[11,5]]))\n",
    "path3=c2t3(pts1([[11,15],[-10,-2]]))\n",
    "path4=cr([[-10,0,0],[0,0,3]]+c2t3(arc_2p([0,0],[5,21],40,-1,20)[1:-1])+[[5,21,1],[3,21,1]]+c2t3(arc_2p([3,21],[0,2],38,1,20)[1:-1])+[[0,2,1],[-10,2,0]],10)\n",
    "\n",
    "\n",
    "sol=q_rot([\"z90\"],prism(cir,path))\n",
    "sol1=flip(translate([10,0,3],q_rot([\"x90\"],p_extrude(sec,path1))))\n",
    "\n",
    "sol4=cpo(fillet_sol2sol(sol,sol1[:-10],1.5,10,1,1.2))[1:]\n",
    "sol5=cpo(fillet_sol2sol(sol,sol1[10:],1.5,10,0))[1:]\n",
    "sol6=prism(cir,path4)\n",
    "with open('/Users/sanjeevprabhakar/iCloud Drive (Archive)/Documents/Download/openscad/trial.scad','w+') as f:\n",
    "    f.write(f'''\n",
    "    include<dependencies.scad>\n",
    "    render(){{\n",
    "       {swp(sol6)}\n",
    "       difference()\n",
    "       {{\n",
    "       {swp(flip(sol1))}\n",
    "       {swp(sol)}}}\n",
    "       \n",
    "       {swp(sol4)}\n",
    "       {swp(flip(sol5))}\n",
    "       }}\n",
    "    ''')\n",
    "    \n",
    "t1=time.time()\n",
    "t1-t0"
   ]
  }
 ],
 "metadata": {
  "kernelspec": {
   "display_name": "Python 3 (ipykernel)",
   "language": "python",
   "name": "python3"
  },
  "language_info": {
   "codemirror_mode": {
    "name": "ipython",
    "version": 3
   },
   "file_extension": ".py",
   "mimetype": "text/x-python",
   "name": "python",
   "nbconvert_exporter": "python",
   "pygments_lexer": "ipython3",
   "version": "3.10.8"
  }
 },
 "nbformat": 4,
 "nbformat_minor": 5
}
