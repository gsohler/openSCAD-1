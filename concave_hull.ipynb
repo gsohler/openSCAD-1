{
 "cells": [
  {
   "cell_type": "code",
   "execution_count": 1,
   "id": "23969228",
   "metadata": {},
   "outputs": [],
   "source": [
    "from openscad1 import *"
   ]
  },
  {
   "cell_type": "code",
   "execution_count": 4,
   "id": "88acfa4d",
   "metadata": {},
   "outputs": [
    {
     "data": {
      "text/plain": [
       "0.997826099395752"
      ]
     },
     "execution_count": 4,
     "metadata": {},
     "output_type": "execute_result"
    }
   ],
   "source": [
    "t0=time.time()\n",
    "a=random.random(1000)*(10-0)+0\n",
    "b=random.random(1000)*(20-0)+0\n",
    "c=array([a,b]).transpose(1,0).tolist()\n",
    "with open('/Users/sanjeevprabhakar/iCloud Drive (Archive)/Documents/Download/openscad/trial.scad','w+')as f:\n",
    "    f.write(f'''\n",
    "    include<dependencies.scad>\n",
    "    points({c},.2);\n",
    "    color(\"blue\")p_line({concave_hull(c,1.75)},.05);\n",
    "    color(\"magenta\")p_line({c_hull(c)},.02);\n",
    "    ''')\n",
    "t1=time.time()\n",
    "t1-t0"
   ]
  }
 ],
 "metadata": {
  "kernelspec": {
   "display_name": "Python 3 (ipykernel)",
   "language": "python",
   "name": "python3"
  },
  "language_info": {
   "codemirror_mode": {
    "name": "ipython",
    "version": 3
   },
   "file_extension": ".py",
   "mimetype": "text/x-python",
   "name": "python",
   "nbconvert_exporter": "python",
   "pygments_lexer": "ipython3",
   "version": "3.10.8"
  }
 },
 "nbformat": 4,
 "nbformat_minor": 5
}
