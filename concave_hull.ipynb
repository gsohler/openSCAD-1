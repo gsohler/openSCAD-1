{
 "cells": [
  {
   "cell_type": "code",
   "execution_count": null,
   "id": "88acfa4d",
   "metadata": {},
   "outputs": [],
   "source": [
    "a=random.random(200)*(10-0)+0\n",
    "b=random.random(200)*(20-0)+0\n",
    "c=array([a,b]).transpose(1,0).tolist()\n",
    "with open('/Users/sanjeevprabhakar/iCloud Drive (Archive)/Documents/Download/openscad/trial.scad','w+')as f:\n",
    "    f.write(f'''\n",
    "    include<dependencies.scad>\n",
    "    points({c},.2);\n",
    "    color(\"blue\")p_line({concave_hull(c,2,20)},.05);\n",
    "    ''')"
   ]
  }
 ],
 "metadata": {
  "kernelspec": {
   "display_name": "Python 3 (ipykernel)",
   "language": "python",
   "name": "python3"
  },
  "language_info": {
   "codemirror_mode": {
    "name": "ipython",
    "version": 3
   },
   "file_extension": ".py",
   "mimetype": "text/x-python",
   "name": "python",
   "nbconvert_exporter": "python",
   "pygments_lexer": "ipython3",
   "version": "3.8.10"
  }
 },
 "nbformat": 4,
 "nbformat_minor": 5
}
