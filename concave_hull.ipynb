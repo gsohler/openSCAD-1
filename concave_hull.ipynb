{
 "cells": [
  {
   "cell_type": "code",
   "execution_count": null,
   "id": "88acfa4d",
   "metadata": {},
   "outputs": [],
   "source": [
    "a=random.rand(500)*(10-0)+0\n",
    "b=random.rand(500)*(12-2)+2\n",
    "points=array([a,b]).transpose(1,0).tolist()\n",
    "\n",
    "with open('/Users/sanjeevprabhakar/iCloud Drive (Archive)/Documents/Download/openscad/trial.scad','w+') as f:\n",
    "    f.write(f'''\n",
    "    include<dependencies.scad>\n",
    "    points({points},.2);\n",
    "    color(\"green\")p_line({concave_hull(points,2)},.1);\n",
    "    \n",
    "    \n",
    "    ''')"
   ]
  }
 ],
 "metadata": {
  "kernelspec": {
   "display_name": "Python 3 (ipykernel)",
   "language": "python",
   "name": "python3"
  },
  "language_info": {
   "codemirror_mode": {
    "name": "ipython",
    "version": 3
   },
   "file_extension": ".py",
   "mimetype": "text/x-python",
   "name": "python",
   "nbconvert_exporter": "python",
   "pygments_lexer": "ipython3",
   "version": "3.8.10"
  }
 },
 "nbformat": 4,
 "nbformat_minor": 5
}
