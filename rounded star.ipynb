{
 "cells": [
  {
   "cell_type": "code",
   "execution_count": null,
   "id": "4dd7a73e",
   "metadata": {},
   "outputs": [],
   "source": [
    "t=1 # thickness\n",
    "s=10 # number of sides of the star\n",
    "d=20 # outer diameter of the star\n",
    "h=50 # height of the star prism\n",
    "cir1=circle(d,s=(s+1))\n",
    "cir2=c3t2(q_rot([f\"z{360/(s+1)/2}\"],circle(d/4,s=(s+1))))\n",
    "sec1=array(c2t3([cir1,cir2]))\n",
    "sec1=sec1.transpose(1,0,2).reshape(-1,3)\n",
    "sec1=sec1\n",
    "sec1=[(sec1[i]+[0,0,1]).tolist() if i%2==0 else (sec1[i]+[0,0,t]).tolist() for i in range(len(sec1)) ]\n",
    "sec1=m_points(cr(sec1,20),1.1)\n",
    "sec2=m_points(offset(cr(sec1,20),.2),1.1)\n",
    "sol1=l_extrude(sec1,h)\n",
    "\n",
    "line1=cr(pts1([[-20,0],[20,30,50],[20,-30]]),40)\n",
    "line2=cytz(line1)\n",
    "surf1=surf_extrude(line1,line2)\n",
    "surf2=trns([0,0,-t],surf1)\n",
    "\n",
    "sol2=cpo(fillet_surf2sol(flip(surf1),sol1,.5,10,0))[1:]\n",
    "ip1=sort_pointsv(sol2[0],ip_surf(surf1,l_extrude(sec2,h)))\n",
    "\n",
    "\n",
    "\n",
    "sol2=[trns([0,0,10],ip1)]+[ip1]+sol2+[trns([0,0,10],sol2[len(sol2)-1])]+[trns([0,0,10],ip1)]\n",
    "\n",
    "sol3=cpo(fillet_surf2sol(surf2,sol1,.5,10,1))[1:]\n",
    "ip2=sort_pointsv(sol3[0],ip_surf(surf2,l_extrude(sec2,h)))\n",
    "sol3=[trns([0,0,-5],ip2)]+[ip2]+sol3+[trns([0,0,-5],sol3[len(sol3)-1])]+[trns([0,0,-5],ip2)]\n",
    "\n",
    "with open('/Users/sanjeevprabhakar/iCloud Drive (Archive)/Documents/Download/openscad/trial.scad','w+') as f:\n",
    "    f.write(f'''\n",
    "include<dependencies.scad> \n",
    "\n",
    "render(){{\n",
    "difference(){{\n",
    "intersection(){{\n",
    "{swp(surf_extrudef(surf1,-t))}\n",
    "{swp(sol1)}\n",
    "}}\n",
    "{swp_c(sol2)}\n",
    "{swp_c(sol3)}\n",
    "}}\n",
    "\n",
    "}}\n",
    "\n",
    "\n",
    "''')"
   ]
  }
 ],
 "metadata": {
  "kernelspec": {
   "display_name": "Python 3 (ipykernel)",
   "language": "python",
   "name": "python3"
  },
  "language_info": {
   "codemirror_mode": {
    "name": "ipython",
    "version": 3
   },
   "file_extension": ".py",
   "mimetype": "text/x-python",
   "name": "python",
   "nbconvert_exporter": "python",
   "pygments_lexer": "ipython3",
   "version": "3.8.10"
  }
 },
 "nbformat": 4,
 "nbformat_minor": 5
}
