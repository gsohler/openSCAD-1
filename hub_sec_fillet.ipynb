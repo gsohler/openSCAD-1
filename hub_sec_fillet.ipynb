{
 "cells": [
  {
   "cell_type": "code",
   "execution_count": 25,
   "id": "7aa207c8",
   "metadata": {},
   "outputs": [],
   "source": [
    "from openscad1 import *\n",
    "\n",
    "sec=circle(60,s=111)\n",
    "path=cr(pts1([[-5,0],[5,0,5],[3,20,10],[-3,20,5],[-15,0]]),5)\n",
    "sol1=prism(sec,path)\n",
    "\n",
    "fillet_radius=2\n",
    "sec1=m_points(cr(pts1([[-15,0,2.4],[0,15,3],[30,0,3],[0,-15,2.4],[5,0,2.4],[0,20,7],[-40,0,7],[0,-20,2.4]]),25),.9)\n",
    "\n",
    "sol2=trns([0,40,10],q_rot([\"x90\",\"z220\"],[c2t3(sec1),trns([0,0,130],scl2d_c(sec1,.6))]))\n",
    "\n",
    "\n",
    "\n",
    "sol3=fillet_sol2sol(sol1,sol2,fillet_radius,15,0)\n",
    "\n",
    "with open('/Users/sanjeevprabhakar/iCloud Drive (Archive)/Documents/Download/openscad/trial.scad','w+') as f:\n",
    "    f.write(f'''\n",
    "render(){{\n",
    "{swp(sol1)}\n",
    "{swp(sol2)}\n",
    "{swp_c(sol3)}\n",
    "}}\n",
    "\n",
    "\n",
    "''') \n"
   ]
  }
 ],
 "metadata": {
  "kernelspec": {
   "display_name": "Python 3 (ipykernel)",
   "language": "python",
   "name": "python3"
  },
  "language_info": {
   "codemirror_mode": {
    "name": "ipython",
    "version": 3
   },
   "file_extension": ".py",
   "mimetype": "text/x-python",
   "name": "python",
   "nbconvert_exporter": "python",
   "pygments_lexer": "ipython3",
   "version": "3.8.10"
  }
 },
 "nbformat": 4,
 "nbformat_minor": 5
}
