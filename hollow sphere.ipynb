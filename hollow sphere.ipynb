{
 "cells": [
  {
   "cell_type": "code",
   "execution_count": 3,
   "id": "51fcf625",
   "metadata": {},
   "outputs": [],
   "source": [
    "from openscad import *\n",
    "\n",
    "sp1=q_rot([\"z90\"],sphere(10))\n",
    "sp2=q_rot([\"z90\"],sphere(8))\n",
    "cyl=q_rot([\"y30\"],l_extrude(arc(3,0,355,s=50),30))\n",
    "sol=ipe(sp1,flip(cyl),2,10,1)\n",
    "sol1=sol[len(sol)-1]\n",
    "sol2=(array(sol1)-array(nv(cyl[1]))*10).tolist()\n",
    "sol2=translate((array(nv(cyl[1]))*-.1).tolist(),sol+[sol2])\n",
    "\n",
    "sol3=ipe(sp2,cyl,2,10,0)\n",
    "sol4=sol3[len(sol3)-1]\n",
    "sol4=(array(sol4)+array(nv(cyl[1]))*10).tolist()\n",
    "sol4=sol3+[sol4]\n",
    "with open('/Users/sanjeevprabhakar/iCloud Drive (Archive)/Documents/Download/openscad/trial.scad','w+') as f:\n",
    "    f.write(f''' \n",
    "    include<dependencies.scad>\n",
    "    difference()\n",
    "    {{difference()\n",
    "    {{difference()\n",
    "    {{swp({sp1});\n",
    "    swp({sp2});}}\n",
    "    swp({cyl});}}\n",
    "    swp({sol2});\n",
    "    !swp({sol4});}}\n",
    "    \n",
    "    \n",
    "    ''')"
   ]
  }
 ],
 "metadata": {
  "kernelspec": {
   "display_name": "Python 3 (ipykernel)",
   "language": "python",
   "name": "python3"
  },
  "language_info": {
   "codemirror_mode": {
    "name": "ipython",
    "version": 3
   },
   "file_extension": ".py",
   "mimetype": "text/x-python",
   "name": "python",
   "nbconvert_exporter": "python",
   "pygments_lexer": "ipython3",
   "version": "3.10.8"
  }
 },
 "nbformat": 4,
 "nbformat_minor": 5
}
