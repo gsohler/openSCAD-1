{
 "cells": [
  {
   "cell_type": "code",
   "execution_count": 1,
   "id": "4ee9ac25",
   "metadata": {},
   "outputs": [],
   "source": [
    "from openscad1 import *\n",
    "\n",
    "# application of function c2ro(sol, s) for creating fillet between 2 cylinders\n",
    "\n",
    "sec=circle(5,s=50)\n",
    "path=cr(pts1([[-1,2],[1,0,1],[0,10,1],[-1,0]]),10)\n",
    "\n",
    "sol1=l_extrude(circle(10,s=100),14)\n",
    "\n",
    "sol2=translate([10,0,0],c2ro(prism(sec,path),10))\n",
    "\n",
    "sol3=translate([10,0,0],prism(sec,path))\n",
    "\n",
    "sol5=fillet_sol2sol(sol1,sol2,1,10,0)\n",
    "\n",
    "with open('/Users/sanjeevprabhakar/iCloud Drive (Archive)/Documents/Download/openscad/trial.scad','w+')as f:\n",
    "    f.write(f'''\n",
    "include<dependencies2.scad>\n",
    "{swp(sol3)}\n",
    "{swp(sol1)}\n",
    "{swp_c(sol5)}\n",
    "\n",
    "//color(\"blue\")for(p={cpo(sol2)})p_line3d(p,.02);\n",
    "//color(\"blue\")for(p={sol5})p_line3dc(p,.02);\n",
    "    ''')\n",
    "    \n",
    "\n",
    "\n"
   ]
  },
  {
   "cell_type": "code",
   "execution_count": 45,
   "id": "4c8fc319",
   "metadata": {},
   "outputs": [
    {
     "data": {
      "text/plain": [
       "'1.21.1'"
      ]
     },
     "execution_count": 45,
     "metadata": {},
     "output_type": "execute_result"
    }
   ],
   "source": [
    "import numpy\n",
    "numpy.version.version"
   ]
  }
 ],
 "metadata": {
  "kernelspec": {
   "display_name": "Python 3 (ipykernel)",
   "language": "python",
   "name": "python3"
  },
  "language_info": {
   "codemirror_mode": {
    "name": "ipython",
    "version": 3
   },
   "file_extension": ".py",
   "mimetype": "text/x-python",
   "name": "python",
   "nbconvert_exporter": "python",
   "pygments_lexer": "ipython3",
   "version": "3.10.8"
  }
 },
 "nbformat": 4,
 "nbformat_minor": 5
}
