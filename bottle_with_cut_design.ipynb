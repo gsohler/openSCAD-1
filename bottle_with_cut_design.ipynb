{
 "cells": [
  {
   "cell_type": "code",
   "execution_count": 29,
   "id": "b237b82f",
   "metadata": {},
   "outputs": [],
   "source": [
    "from openscad1 import *"
   ]
  },
  {
   "cell_type": "code",
   "execution_count": 34,
   "id": "52eca032",
   "metadata": {},
   "outputs": [
    {
     "data": {
      "text/plain": [
       "14.42849612236023"
      ]
     },
     "execution_count": 34,
     "metadata": {},
     "output_type": "execute_result"
    }
   ],
   "source": [
    "# method3\n",
    "\n",
    "t0=time.time()\n",
    "sec=circle(10,s=70)\n",
    "path=cr(pts1([[-3,0,0],[3,0,3],[3,5,7],[-5,20,100],[8,30,20],[-11,10,5],[0,10,0]]),20)\n",
    "path1=path+flip(path_offset(path,-.9))\n",
    "sec1=cr(pts1([[-5,0,3],[10,0,3],[0,20,30],[-3,20,30],[0,10,2],[-4,0,2],[0,-10,30],[-3,-20,30]]),20)\n",
    "\n",
    "sol1=q_rot(['z0'],prism(sec,path))\n",
    "sol2=trns([0,0,5],q_rot(['x90','z90'],l_extrude(m_points(sec1,1.11),30)))\n",
    "sol3=cpo(fillet_sol2sol(flip(sol1),sol2,.5,10,1))[1:]\n",
    "sol3=sol3+[trns([2,0,0],sol3[len(sol3)-1])]\n",
    "sol4=flip(trns([-1,0,0],cpo(fillet_sol2sol(sol1,sol2,.5,10,1))[1:]))\n",
    "sol5=[trns([-2,0,0],sol4[0])]+sol4+sol3\n",
    "sol6=prism(sec,path1)\n",
    "\n",
    "with open('/Users/sanjeevprabhakar/iCloud Drive (Archive)/Documents/Download/openscad/trial.scad','w+')as f:\n",
    "    f.write(f'''\n",
    "include<dependencies.scad>\n",
    "render(){{\n",
    "difference(){{\n",
    "{swp(sol1)}\n",
    "for(i=[0:360/4:359])\n",
    "rotate([0,0,i])\n",
    "translate([0.03,0,0])\n",
    "intersection(){{\n",
    "{swp(sol5)}\n",
    "{swp(sol6)}\n",
    "}}\n",
    "}}\n",
    "}}\n",
    "\n",
    "    ''')\n",
    "t1=time.time()\n",
    "t1-t0"
   ]
  }
 ],
 "metadata": {
  "kernelspec": {
   "display_name": "Python 3 (ipykernel)",
   "language": "python",
   "name": "python3"
  },
  "language_info": {
   "codemirror_mode": {
    "name": "ipython",
    "version": 3
   },
   "file_extension": ".py",
   "mimetype": "text/x-python",
   "name": "python",
   "nbconvert_exporter": "python",
   "pygments_lexer": "ipython3",
   "version": "3.8.10"
  }
 },
 "nbformat": 4,
 "nbformat_minor": 5
}
