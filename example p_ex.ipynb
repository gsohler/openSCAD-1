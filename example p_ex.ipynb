{
 "cells": [
  {
   "cell_type": "code",
   "execution_count": null,
   "id": "b3045b4b",
   "metadata": {},
   "outputs": [],
   "source": [
    "path=q_rot([\"z0\"],cr_3d([[0,0,0,4],[30,0,0,7],[5,3,25,5],[0,15,0,5],[-5,3,-25,7],[-30,0,0,4]],5))\n",
    "sec=cr(pts1([[0,0,.1],[3,0,.1],[-1.5,3,.1]]),10)\n",
    "with open('/Users/sanjeevprabhakar/iCloud Drive (Archive)/Documents/Download/openscad/trial.scad','w+')as f:\n",
    "    f.write(f'''\n",
    "\n",
    "{swp(p_ex(sec,path,0))}\n",
    "\n",
    "    ''')"
   ]
  }
 ],
 "metadata": {
  "kernelspec": {
   "display_name": "Python 3 (ipykernel)",
   "language": "python",
   "name": "python3"
  },
  "language_info": {
   "codemirror_mode": {
    "name": "ipython",
    "version": 3
   },
   "file_extension": ".py",
   "mimetype": "text/x-python",
   "name": "python",
   "nbconvert_exporter": "python",
   "pygments_lexer": "ipython3",
   "version": "3.8.10"
  }
 },
 "nbformat": 4,
 "nbformat_minor": 5
}
