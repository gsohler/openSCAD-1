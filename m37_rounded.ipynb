{
 "cells": [
  {
   "cell_type": "code",
   "execution_count": null,
   "id": "17948482",
   "metadata": {},
   "outputs": [],
   "source": [
    "sec=[[i,3*sin(i*18*pi/180)] for i in arange(-20,20,.5)]\n",
    "\n",
    "path=[[i,0,20+3*sin(i*12*pi/180)] for i in arange(-30,30,.5)]\n",
    "\n",
    "surf=surf_extrude(sec,path)\n",
    "\n",
    "sec1=cr(pts1([[0,0,2],[20,0,2],[0,20,2]]),40)\n",
    "\n",
    "sol1=trns([0,0,-.5],q_rot([\"z.001\"],l_extrude(m_points(sec1,.5),40)))\n",
    "sol01=trns([0,0,-.5],q_rot([\"z.001\"],l_extrude(m_points(offset(sec1,.5),.5),40)))\n",
    "\n",
    "\n",
    "\n",
    "sol2=cpo(ipf(surf,flip(sol1),1,10,0))[1:]\n",
    "ip=sort_pointsv(sol2[0],ip_surf(surf,sol01))\n",
    "sol2=[trns([0,0,10],ip)]+[ip]+sol2+[trns([0,0,10],sol2[len(sol2)-1])]+[trns([0,0,10],ip)]\n",
    "\n",
    "with open('/Users/sanjeevprabhakar/iCloud Drive (Archive)/Documents/Download/openscad/trial.scad','w+')as f:\n",
    "    f.write(f'''\n",
    "    render(){{\n",
    "    difference(){{\n",
    "    intersection(){{\n",
    "    {swp(surf_base(surf,0))}\n",
    "    {swp(sol1)}\n",
    "   }}\n",
    "   {swp_c(sol2)}\n",
    "    }}\n",
    "    }}\n",
    "    ''')\n"
   ]
  }
 ],
 "metadata": {
  "kernelspec": {
   "display_name": "Python 3 (ipykernel)",
   "language": "python",
   "name": "python3"
  },
  "language_info": {
   "codemirror_mode": {
    "name": "ipython",
    "version": 3
   },
   "file_extension": ".py",
   "mimetype": "text/x-python",
   "name": "python",
   "nbconvert_exporter": "python",
   "pygments_lexer": "ipython3",
   "version": "3.8.10"
  }
 },
 "nbformat": 4,
 "nbformat_minor": 5
}
