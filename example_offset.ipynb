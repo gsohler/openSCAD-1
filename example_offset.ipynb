{
 "cells": [
  {
   "cell_type": "code",
   "execution_count": null,
   "id": "4f0164d1",
   "metadata": {},
   "outputs": [],
   "source": [
    "sec=cr(pts1([[0,0,.2],[8,3,3],[5,7,1],[-8,0,2],[-5,20,1]]),20)\n",
    "o=linspace(-4.2,20,50)\n",
    "s=[offset(sec,i) for i in o]\n",
    "with open('/Users/sanjeevprabhakar/iCloud Drive (Archive)/Documents/Download/openscad/trial.scad','w+') as f:\n",
    "    f.write(f'''\n",
    "    include<dependencies.scad>\n",
    "    \n",
    "   for(p={s})p_line(p,.1);\n",
    "   color(\"green\")p_line({sec},.1);\n",
    "\n",
    "\n",
    "\n",
    "\n",
    "    ''')"
   ]
  }
 ],
 "metadata": {
  "kernelspec": {
   "display_name": "Python 3 (ipykernel)",
   "language": "python",
   "name": "python3"
  },
  "language_info": {
   "codemirror_mode": {
    "name": "ipython",
    "version": 3
   },
   "file_extension": ".py",
   "mimetype": "text/x-python",
   "name": "python",
   "nbconvert_exporter": "python",
   "pygments_lexer": "ipython3",
   "version": "3.8.10"
  }
 },
 "nbformat": 4,
 "nbformat_minor": 5
}
