{
 "cells": [
  {
   "cell_type": "code",
   "execution_count": null,
   "id": "f6e84026",
   "metadata": {},
   "outputs": [],
   "source": [
    "sp1=sphere(10)\n",
    "sp2=trns([7,7,7],q_rot(['y45','z45'],sphere(5)))\n",
    "ip1=ip_surf(sp1,sp2)\n",
    "sol=fillet_sol2sol(sp1,sp2,1,10,0)\n",
    "with open('/Users/sanjeevprabhakar/iCloud Drive (Archive)/Documents/Download/openscad/trial.scad','w+') as f:\n",
    "    f.write(f'''\n",
    "include<dependencies.scad> \n",
    "for(p={sp1})p_line3dc(p,.02);\n",
    "for(p={cpo(sp2)})p_line3dc(p,.02);\n",
    "color(\"blue\")points({ip1},.1);\n",
    "color(\"magenta\")for(p={sol})p_line3dc(p,.02);\n",
    "%{swp_c(sol)}\n",
    "''') "
   ]
  }
 ],
 "metadata": {
  "kernelspec": {
   "display_name": "Python 3 (ipykernel)",
   "language": "python",
   "name": "python3"
  },
  "language_info": {
   "codemirror_mode": {
    "name": "ipython",
    "version": 3
   },
   "file_extension": ".py",
   "mimetype": "text/x-python",
   "name": "python",
   "nbconvert_exporter": "python",
   "pygments_lexer": "ipython3",
   "version": "3.8.10"
  }
 },
 "nbformat": 4,
 "nbformat_minor": 5
}
