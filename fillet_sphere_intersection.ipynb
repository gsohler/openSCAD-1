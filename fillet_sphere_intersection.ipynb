{
 "cells": [
  {
   "cell_type": "code",
   "execution_count": 1,
   "id": "ea5e712a",
   "metadata": {},
   "outputs": [],
   "source": [
    "from openscad1 import *"
   ]
  },
  {
   "cell_type": "code",
   "execution_count": 2,
   "id": "f6e84026",
   "metadata": {},
   "outputs": [],
   "source": [
    "sp1=sphere(10)\n",
    "sp2=translate([7,7,7],q_rot(['y45','z45'],sphere(5)))\n",
    "ip1=ip_surf(sp1,sp2)\n",
    "sol=fillet_sol2sol(sp1,sp2,1,10,0)\n",
    "with open('/Users/sanjeevprabhakar/iCloud Drive (Archive)/Documents/Download/openscad/trial.scad','w+') as f:\n",
    "    f.write(f'''\n",
    "\n",
    "include<dependencies2.scad> \n",
    "\n",
    "//\"Blue\" points are the intersection points between sp1 and sp2\n",
    "//\"magenta\" line at the normal drawn from the \"Blue\" points to sp1 surface\n",
    "//\"green\" line arc is drawn with axis of rotation \"navy blue\" line to find the intersection point \"green\" with sp1. radius of the arc is the radius of the fillet\n",
    "//\"cyan\" line arc drawn with axis of rotation \"navy blue\" line to find the intersection point \"cyan\" with sp2. radius of the arc is the radius of the fillet\n",
    "//with 3 points \"cyan\", \"blue\" and \"green\" arcs are drawn to form fillets\n",
    "\n",
    "\n",
    "for(p={sp1})p_line3dc(p,.02);\n",
    "for(p={cpo(sp2)})p_line3d(p,.02);\n",
    "color(\"blue\")points({ip1},.1);\n",
    "color(\"magenta\")for(p={sol})p_line3dc(p,.02);\n",
    "%{swp_c(sol)}\n",
    "''') "
   ]
  },
  {
   "cell_type": "code",
   "execution_count": 3,
   "id": "d94c180a",
   "metadata": {},
   "outputs": [],
   "source": [
    "pl=translate([0,0,1],plane([0,0,1],50))\n",
    "sec=cr(pts1([[0,0,1],[8,3,3],[5,7,1],[-8,0,2],[-5,20,1]]),10)\n",
    "sol1=l_extrude(m_points(sec,1),20)\n",
    "ip1=ip_surf(pl,sol1)\n",
    "sol2=fillet_surf2sol(flip(pl),sol1,1,10,0)\n",
    "with open('/Users/sanjeevprabhakar/iCloud Drive (Archive)/Documents/Download/openscad/trial.scad','w+') as f:\n",
    "    f.write(f'''\n",
    "include<dependencies2.scad> \n",
    "\n",
    "//\"Blue\" points are the intersection points between pl and sol1\n",
    "//\"magenta\" line at the normal drawn from the \"Blue\" points to sp1 surface\n",
    "//\"green\" line arc is drawn with axis of rotation \"navy blue\" line to find the intersection point \"green\" with sp1. radius of the arc is the radius of the fillet\n",
    "//\"cyan\" line arc drawn with axis of rotation \"navy blue\" line to find the intersection point \"cyan\" with sp2. radius of the arc is the radius of the fillet\n",
    "//with 3 points \"cyan\", \"blue\" and \"green\" arcs are drawn to form fillets\n",
    "    \n",
    "for(p={cpo(pl)})p_line3dc(p,.02);\n",
    "for(p={cpo(sol1)})p_line3d(p,.02);\n",
    "color(\"blue\")points({ip1},.1);\n",
    "color(\"magenta\")for(p={sol2})p_line3dc(p,.02);\n",
    "%{swp_c(sol2)}\n",
    "''') "
   ]
  }
 ],
 "metadata": {
  "kernelspec": {
   "display_name": "Python 3 (ipykernel)",
   "language": "python",
   "name": "python3"
  },
  "language_info": {
   "codemirror_mode": {
    "name": "ipython",
    "version": 3
   },
   "file_extension": ".py",
   "mimetype": "text/x-python",
   "name": "python",
   "nbconvert_exporter": "python",
   "pygments_lexer": "ipython3",
   "version": "3.10.8"
  }
 },
 "nbformat": 4,
 "nbformat_minor": 5
}
